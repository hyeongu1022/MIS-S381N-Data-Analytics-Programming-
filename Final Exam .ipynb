{
 "cells": [
  {
   "cell_type": "code",
   "execution_count": 2,
   "metadata": {},
   "outputs": [
    {
     "name": "stdout",
     "output_type": "stream",
     "text": [
      "Populating the interactive namespace from numpy and matplotlib\n"
     ]
    }
   ],
   "source": [
    "from pandas import Series, DataFrame\n",
    "import pandas as pd\n",
    "%pylab inline"
   ]
  },
  {
   "cell_type": "markdown",
   "metadata": {},
   "source": [
    "---\n",
    "\n",
    "The exam has 20 questions.\n",
    "* Q1 is a conceptual question with 3 parts, each worth 3 points.\n",
    "* Q2-Q19 is about a dataset of drug overdoses.\n",
    "    * Q2 is worth 3 points\n",
    "    * Q3-Q15 are worth 4 points each\n",
    "    * Q16-Q18 are worth 6 points each\n",
    "    * Q19 is worth 8 points\n",
    "* Q20 is a classification question on a dataset of chess games.\n",
    "    * Part (a) is worth 7 points\n",
    "    * Part (b) is worth 3 points\n",
    "\n",
    "*Best of luck!*\n",
    "\n",
    "---"
   ]
  },
  {
   "cell_type": "markdown",
   "metadata": {},
   "source": [
    "![Figures](Figures.png)\n",
    "\n",
    "Consider the two datasets above, where the two colors correspond to two different classes. For the following questions, provide a short reason for your answers. You may use the points named in the figures (from A to P) for your explanations. If there are multiple possible choices for your answer, you can provide any one."
   ]
  },
  {
   "cell_type": "markdown",
   "metadata": {},
   "source": [
    "### [Q1(a) 3 points]\n",
    "Which dataset can I classify better using a depth-1 decision tree (which only allows one top-level split)?"
   ]
  },
  {
   "cell_type": "markdown",
   "metadata": {},
   "source": [
    "We can classify Dataset 1 better using a depth-1 decision tree because it gives 1/2 accuracy when we split by drawing a line from point H to point I. "
   ]
  },
  {
   "cell_type": "markdown",
   "metadata": {},
   "source": [
    "### [Q1(b) 3 points]\n",
    "Which dataset can I classify better using a depth-2 decision tree?"
   ]
  },
  {
   "cell_type": "markdown",
   "metadata": {},
   "source": [
    "We can classify Dataset 1 better using a depth-2 decision tree because it gives perfect accuracy when we split by drawing two lines(one from H to I and another from B to O). Plus, Dataset2 requires diagonal lines. "
   ]
  },
  {
   "cell_type": "markdown",
   "metadata": {},
   "source": [
    "### [Q1(c) 3 points]\n",
    "Can any linear separator achieve better than 50% accuracy on Dataset 1? Why or why not?"
   ]
  },
  {
   "cell_type": "markdown",
   "metadata": {},
   "source": [
    "Yes. We can perfectly classify the dataset by two linear separators from H to I and from B to O. "
   ]
  },
  {
   "cell_type": "markdown",
   "metadata": {},
   "source": [
    "---\n",
    "\n",
    "We will consider a dataset (*overdoses.csv*) where each row represents one drug-related death in Connecticut. We will use the following fields:\n",
    "* Date, Age, Sex, and Race are self-explanatory\n",
    "* ResidenceCity and ResidenceCounty are the city and county where the deceased person lived.\n",
    "* DeathCity and DeathCounty are the city and county where the death was reported.\n",
    "* COD is a text string for the Cause Of Death\n",
    "* Location is the place where the person died. For example, it could be a Hospital.\n",
    "* LocationifOther is an extra string giving more details about the Location.\n",
    "* There are many columns for individual drugs. For example, under the column named \"Heroin\", we have a \"Y\" if the person had Heroin in their blood. If there was no Heroin in their blood, the value is missing.\n",
    "    * Sometimes the value may be something other than a \"Y\". When this happens, we will just think of it as missing.\n",
    "    * The \"Other\" column lists drug names instead of a \"Y\". We will ignore the \"Other\" column.\n",
    "* DeathCityGeo and ResidenceCityGeo give latitude and longitude coordinates for the death and residence cities\n",
    "\n",
    "### [Q2 3 points] Read in overdoses.csv\n",
    "\n",
    "Print the SECOND row."
   ]
  },
  {
   "cell_type": "code",
   "execution_count": 8,
   "metadata": {},
   "outputs": [
    {
     "data": {
      "text/plain": [
       "ID                                                 13-0102\n",
       "Date                                        3/21/2013 0:00\n",
       "DateType                                       DateofDeath\n",
       "Age                                                     48\n",
       "Sex                                                   Male\n",
       "Race                                                 Black\n",
       "ResidenceCity                                      NORWALK\n",
       "ResidenceCounty                                        NaN\n",
       "ResidenceState                                         NaN\n",
       "DeathCity                                          NORWALK\n",
       "DeathCounty                                      FAIRFIELD\n",
       "Location                                          Hospital\n",
       "LocationifOther                                        NaN\n",
       "DescriptionofInjury                                    NaN\n",
       "InjuryPlace                                            NaN\n",
       "InjuryCity                                             NaN\n",
       "InjuryCounty                                           NaN\n",
       "InjuryState                                            NaN\n",
       "COD                                   Cocaine Intoxication\n",
       "OtherSignifican                                        NaN\n",
       "Heroin                                                 NaN\n",
       "Cocaine                                                  Y\n",
       "Fentanyl                                               NaN\n",
       "FentanylAnalogue                                       NaN\n",
       "Oxycodone                                              NaN\n",
       "Oxymorphone                                            NaN\n",
       "Ethanol                                                NaN\n",
       "Hydrocodone                                            NaN\n",
       "Benzodiazepine                                         NaN\n",
       "Methadone                                              NaN\n",
       "Amphet                                                 NaN\n",
       "Tramad                                                 NaN\n",
       "Morphine_NotHeroin                                     NaN\n",
       "Hydromorphone                                          NaN\n",
       "Other                                                  NaN\n",
       "OpiateNOS                                              NaN\n",
       "AnyOpioid                                              NaN\n",
       "MannerofDeath                                     Accident\n",
       "DeathCityGeo           Norwalk, CT\\n(41.11805, -73.412906)\n",
       "ResidenceCityGeo       NORWALK, CT\\n(41.11805, -73.412906)\n",
       "InjuryCityGeo                  CT\\n(41.575155, -72.738288)\n",
       "Name: 1, dtype: object"
      ]
     },
     "execution_count": 8,
     "metadata": {},
     "output_type": "execute_result"
    }
   ],
   "source": [
    "drug_df = pd.read_csv(\"overdoses.csv\")\n",
    "drug_df.iloc[1,:]"
   ]
  },
  {
   "cell_type": "markdown",
   "metadata": {},
   "source": [
    "\n",
    "In some of the following questions, we will need to access the columns corresponding to various drugs.\n",
    "To make it easier, I have created a list called **drug_names** that you should use in your code. \n",
    "\n",
    "* You will need this in Q14, Q16, Q18, and Q19.\n",
    "\n",
    "**Make sure you run this code cell before proceeding**"
   ]
  },
  {
   "cell_type": "code",
   "execution_count": 9,
   "metadata": {},
   "outputs": [],
   "source": [
    "drug_names = ['Heroin', 'Cocaine', 'Fentanyl', 'FentanylAnalogue', 'Oxycodone', 'Oxymorphone',\n",
    "              'Ethanol', 'Hydrocodone', 'Benzodiazepine', 'Methadone', 'Amphet', 'Tramad',\n",
    "              'Morphine_NotHeroin', 'Hydromorphone', 'OpiateNOS', 'AnyOpioid']"
   ]
  },
  {
   "cell_type": "code",
   "execution_count": 10,
   "metadata": {},
   "outputs": [
    {
     "data": {
      "text/html": [
       "<div>\n",
       "<style scoped>\n",
       "    .dataframe tbody tr th:only-of-type {\n",
       "        vertical-align: middle;\n",
       "    }\n",
       "\n",
       "    .dataframe tbody tr th {\n",
       "        vertical-align: top;\n",
       "    }\n",
       "\n",
       "    .dataframe thead th {\n",
       "        text-align: right;\n",
       "    }\n",
       "</style>\n",
       "<table border=\"1\" class=\"dataframe\">\n",
       "  <thead>\n",
       "    <tr style=\"text-align: right;\">\n",
       "      <th></th>\n",
       "      <th>ID</th>\n",
       "      <th>Date</th>\n",
       "      <th>DateType</th>\n",
       "      <th>Age</th>\n",
       "      <th>Sex</th>\n",
       "      <th>Race</th>\n",
       "      <th>ResidenceCity</th>\n",
       "      <th>ResidenceCounty</th>\n",
       "      <th>ResidenceState</th>\n",
       "      <th>DeathCity</th>\n",
       "      <th>...</th>\n",
       "      <th>Tramad</th>\n",
       "      <th>Morphine_NotHeroin</th>\n",
       "      <th>Hydromorphone</th>\n",
       "      <th>Other</th>\n",
       "      <th>OpiateNOS</th>\n",
       "      <th>AnyOpioid</th>\n",
       "      <th>MannerofDeath</th>\n",
       "      <th>DeathCityGeo</th>\n",
       "      <th>ResidenceCityGeo</th>\n",
       "      <th>InjuryCityGeo</th>\n",
       "    </tr>\n",
       "  </thead>\n",
       "  <tbody>\n",
       "    <tr>\n",
       "      <th>0</th>\n",
       "      <td>14-0273</td>\n",
       "      <td>6/28/2014 0:00</td>\n",
       "      <td>DateReported</td>\n",
       "      <td>NaN</td>\n",
       "      <td>NaN</td>\n",
       "      <td>NaN</td>\n",
       "      <td>NaN</td>\n",
       "      <td>NaN</td>\n",
       "      <td>NaN</td>\n",
       "      <td>NaN</td>\n",
       "      <td>...</td>\n",
       "      <td>NaN</td>\n",
       "      <td>NaN</td>\n",
       "      <td>NaN</td>\n",
       "      <td>NaN</td>\n",
       "      <td>NaN</td>\n",
       "      <td>NaN</td>\n",
       "      <td>Accident</td>\n",
       "      <td>CT\\n(41.575155, -72.738288)</td>\n",
       "      <td>CT\\n(41.575155, -72.738288)</td>\n",
       "      <td>CT\\n(41.575155, -72.738288)</td>\n",
       "    </tr>\n",
       "    <tr>\n",
       "      <th>1</th>\n",
       "      <td>13-0102</td>\n",
       "      <td>3/21/2013 0:00</td>\n",
       "      <td>DateofDeath</td>\n",
       "      <td>48.0</td>\n",
       "      <td>Male</td>\n",
       "      <td>Black</td>\n",
       "      <td>NORWALK</td>\n",
       "      <td>NaN</td>\n",
       "      <td>NaN</td>\n",
       "      <td>NORWALK</td>\n",
       "      <td>...</td>\n",
       "      <td>NaN</td>\n",
       "      <td>NaN</td>\n",
       "      <td>NaN</td>\n",
       "      <td>NaN</td>\n",
       "      <td>NaN</td>\n",
       "      <td>NaN</td>\n",
       "      <td>Accident</td>\n",
       "      <td>Norwalk, CT\\n(41.11805, -73.412906)</td>\n",
       "      <td>NORWALK, CT\\n(41.11805, -73.412906)</td>\n",
       "      <td>CT\\n(41.575155, -72.738288)</td>\n",
       "    </tr>\n",
       "    <tr>\n",
       "      <th>2</th>\n",
       "      <td>16-0165</td>\n",
       "      <td>3/13/2016 0:00</td>\n",
       "      <td>DateofDeath</td>\n",
       "      <td>30.0</td>\n",
       "      <td>Female</td>\n",
       "      <td>White</td>\n",
       "      <td>SANDY HOOK</td>\n",
       "      <td>FAIRFIELD</td>\n",
       "      <td>CT</td>\n",
       "      <td>DANBURY</td>\n",
       "      <td>...</td>\n",
       "      <td>NaN</td>\n",
       "      <td>NaN</td>\n",
       "      <td>NaN</td>\n",
       "      <td>NaN</td>\n",
       "      <td>NaN</td>\n",
       "      <td>Y</td>\n",
       "      <td>Accident</td>\n",
       "      <td>Danbury, CT\\n(41.393666, -73.451539)</td>\n",
       "      <td>SANDY HOOK, CT\\n(41.419998, -73.282501)</td>\n",
       "      <td>NaN</td>\n",
       "    </tr>\n",
       "    <tr>\n",
       "      <th>3</th>\n",
       "      <td>16-0208</td>\n",
       "      <td>3/31/2016 0:00</td>\n",
       "      <td>DateofDeath</td>\n",
       "      <td>23.0</td>\n",
       "      <td>Male</td>\n",
       "      <td>White</td>\n",
       "      <td>RYE</td>\n",
       "      <td>WESTCHESTER</td>\n",
       "      <td>NY</td>\n",
       "      <td>GREENWICH</td>\n",
       "      <td>...</td>\n",
       "      <td>NaN</td>\n",
       "      <td>NaN</td>\n",
       "      <td>NaN</td>\n",
       "      <td>NaN</td>\n",
       "      <td>NaN</td>\n",
       "      <td>Y</td>\n",
       "      <td>Accident</td>\n",
       "      <td>Greenwich, CT\\n(41.026526, -73.628549)</td>\n",
       "      <td>NaN</td>\n",
       "      <td>NaN</td>\n",
       "    </tr>\n",
       "    <tr>\n",
       "      <th>4</th>\n",
       "      <td>13-0052</td>\n",
       "      <td>2/13/2013 0:00</td>\n",
       "      <td>DateofDeath</td>\n",
       "      <td>22.0</td>\n",
       "      <td>Male</td>\n",
       "      <td>Asian, Other</td>\n",
       "      <td>FLUSHING</td>\n",
       "      <td>QUEENS</td>\n",
       "      <td>NaN</td>\n",
       "      <td>GREENWICH</td>\n",
       "      <td>...</td>\n",
       "      <td>NaN</td>\n",
       "      <td>NaN</td>\n",
       "      <td>NaN</td>\n",
       "      <td>NaN</td>\n",
       "      <td>NaN</td>\n",
       "      <td>NaN</td>\n",
       "      <td>Accident</td>\n",
       "      <td>Greenwich, CT\\n(41.026526, -73.628549)</td>\n",
       "      <td>NaN</td>\n",
       "      <td>CT\\n(41.575155, -72.738288)</td>\n",
       "    </tr>\n",
       "  </tbody>\n",
       "</table>\n",
       "<p>5 rows × 41 columns</p>\n",
       "</div>"
      ],
      "text/plain": [
       "        ID            Date      DateType   Age     Sex          Race  \\\n",
       "0  14-0273  6/28/2014 0:00  DateReported   NaN     NaN           NaN   \n",
       "1  13-0102  3/21/2013 0:00   DateofDeath  48.0    Male         Black   \n",
       "2  16-0165  3/13/2016 0:00   DateofDeath  30.0  Female         White   \n",
       "3  16-0208  3/31/2016 0:00   DateofDeath  23.0    Male         White   \n",
       "4  13-0052  2/13/2013 0:00   DateofDeath  22.0    Male  Asian, Other   \n",
       "\n",
       "  ResidenceCity ResidenceCounty ResidenceState  DeathCity  ... Tramad  \\\n",
       "0           NaN             NaN            NaN        NaN  ...    NaN   \n",
       "1       NORWALK             NaN            NaN    NORWALK  ...    NaN   \n",
       "2    SANDY HOOK       FAIRFIELD             CT    DANBURY  ...    NaN   \n",
       "3           RYE     WESTCHESTER             NY  GREENWICH  ...    NaN   \n",
       "4      FLUSHING          QUEENS            NaN  GREENWICH  ...    NaN   \n",
       "\n",
       "  Morphine_NotHeroin Hydromorphone Other OpiateNOS AnyOpioid MannerofDeath  \\\n",
       "0                NaN           NaN   NaN       NaN       NaN      Accident   \n",
       "1                NaN           NaN   NaN       NaN       NaN      Accident   \n",
       "2                NaN           NaN   NaN       NaN         Y      Accident   \n",
       "3                NaN           NaN   NaN       NaN         Y      Accident   \n",
       "4                NaN           NaN   NaN       NaN       NaN      Accident   \n",
       "\n",
       "                             DeathCityGeo  \\\n",
       "0             CT\\n(41.575155, -72.738288)   \n",
       "1     Norwalk, CT\\n(41.11805, -73.412906)   \n",
       "2    Danbury, CT\\n(41.393666, -73.451539)   \n",
       "3  Greenwich, CT\\n(41.026526, -73.628549)   \n",
       "4  Greenwich, CT\\n(41.026526, -73.628549)   \n",
       "\n",
       "                          ResidenceCityGeo                InjuryCityGeo  \n",
       "0              CT\\n(41.575155, -72.738288)  CT\\n(41.575155, -72.738288)  \n",
       "1      NORWALK, CT\\n(41.11805, -73.412906)  CT\\n(41.575155, -72.738288)  \n",
       "2  SANDY HOOK, CT\\n(41.419998, -73.282501)                          NaN  \n",
       "3                                      NaN                          NaN  \n",
       "4                                      NaN  CT\\n(41.575155, -72.738288)  \n",
       "\n",
       "[5 rows x 41 columns]"
      ]
     },
     "execution_count": 10,
     "metadata": {},
     "output_type": "execute_result"
    }
   ],
   "source": [
    "drug_df.head()"
   ]
  },
  {
   "cell_type": "markdown",
   "metadata": {},
   "source": [
    "### [Q3 4 points] What is the ratio of Males to Females in this dataset?"
   ]
  },
  {
   "cell_type": "code",
   "execution_count": 17,
   "metadata": {},
   "outputs": [
    {
     "data": {
      "text/plain": [
       "2.8467924528301887"
      ]
     },
     "execution_count": 17,
     "metadata": {},
     "output_type": "execute_result"
    }
   ],
   "source": [
    "(drug_df['Sex'].value_counts()[0]) / (drug_df['Sex'].value_counts()[1])"
   ]
  },
  {
   "cell_type": "markdown",
   "metadata": {},
   "source": [
    "### [Q4 4 points] How often is the DeathCity the same as the ResidenceCity?"
   ]
  },
  {
   "cell_type": "code",
   "execution_count": 30,
   "metadata": {},
   "outputs": [
    {
     "name": "stdout",
     "output_type": "stream",
     "text": [
      "Total of 3595, 214 without duplicates\n"
     ]
    }
   ],
   "source": [
    "mask = drug_df['DeathCity'] == drug_df['ResidenceCity']\n",
    "print(\"Total of {}, {} without duplicates\".format(len(drug_df[mask]), len(drug_df[mask]['DeathCity'].value_counts())))"
   ]
  },
  {
   "cell_type": "markdown",
   "metadata": {},
   "source": [
    "### [Q5 4 points] How many rows are missing either the ResidenceCity or the DeathCity or both?"
   ]
  },
  {
   "cell_type": "code",
   "execution_count": 35,
   "metadata": {},
   "outputs": [
    {
     "name": "stdout",
     "output_type": "stream",
     "text": [
      "There are total of 172 missing rows\n"
     ]
    }
   ],
   "source": [
    "na_mask = drug_df['ResidenceCity'].isna() | drug_df['DeathCity'].isna()\n",
    "print(\"There are total of {} missing rows\".format(len(drug_df[na_mask])))"
   ]
  },
  {
   "cell_type": "markdown",
   "metadata": {},
   "source": [
    "### [Q6 4 points] Cities per county\n",
    "\n",
    "Print out the number of unique DeathCity in each DeathCounty.\n",
    "* Sometimes either DeathCity or DeathCounty is missing. You should not count these missing rows.\n",
    "* You will find one obviously-wrong value for DeathCounty. Don't worry about it."
   ]
  },
  {
   "cell_type": "code",
   "execution_count": 39,
   "metadata": {},
   "outputs": [
    {
     "name": "stdout",
     "output_type": "stream",
     "text": [
      "There are 217 unique DeathCity in each DeathCounty.\n"
     ]
    }
   ],
   "source": [
    "a = drug_df[['DeathCity', 'DeathCounty']].dropna().drop_duplicates()\n",
    "print(\"There are {} unique DeathCity in each DeathCounty.\".format(len(a)))"
   ]
  },
  {
   "cell_type": "markdown",
   "metadata": {},
   "source": [
    "### [Q7 4 points] Drugs for age groups\n",
    "\n",
    "Split the deaths into 5 equal-sized groups based on Age.\n",
    "* Each group should have (roughly) the same number of people.\n",
    "\n",
    "Find the most common COD for each age group."
   ]
  },
  {
   "cell_type": "code",
   "execution_count": 84,
   "metadata": {},
   "outputs": [
    {
     "data": {
      "text/plain": [
       "age_quantile\n",
       "14-30    Acute Fentanyl Intoxication\n",
       "30-38    Acute Fentanyl Intoxication\n",
       "38-46            Heroin Intoxication\n",
       "46-54         Multiple Drug Toxicity\n",
       "54-87         Multiple Drug Toxicity\n",
       "dtype: object"
      ]
     },
     "execution_count": 84,
     "metadata": {},
     "output_type": "execute_result"
    }
   ],
   "source": [
    "#age_s = drug_df['Age'].dropna()\n",
    "age_percentile = pd.qcut(drug_df['Age'], 5, labels=['14-30', '30-38', '38-46', '46-54', '54-87'])\n",
    "drug_df['age_quantile'] = age_percentile\n",
    "ct_COD = pd.crosstab(drug_df['COD'], drug_df['age_quantile'])\n",
    "ct_COD.idxmax()"
   ]
  },
  {
   "cell_type": "markdown",
   "metadata": {},
   "source": [
    "### [Q8 4 points] Among deaths where the Location of death was a person's Residence, find the number of deaths in each ResidenceCity.\n",
    "\n",
    "Plot the number of such deaths in the top-10 Residence Cities."
   ]
  },
  {
   "cell_type": "code",
   "execution_count": 89,
   "metadata": {},
   "outputs": [
    {
     "data": {
      "text/plain": [
       "HARTFORD       152\n",
       "WATERBURY      133\n",
       "BRIDGEPORT     122\n",
       "NEW HAVEN      117\n",
       "NEW BRITAIN    111\n",
       "              ... \n",
       "NO HAVEN         1\n",
       "SPRAGUE          1\n",
       "WOLCOTT          1\n",
       "KINGSTON         1\n",
       "WEATOGUE         1\n",
       "Name: ResidenceCity, Length: 220, dtype: int64"
      ]
     },
     "execution_count": 89,
     "metadata": {},
     "output_type": "execute_result"
    }
   ],
   "source": [
    "mask_residence = drug_df['Location'] == \"Residence\"\n",
    "drug_df[['Location', 'ResidenceCity']][mask_residence]['ResidenceCity'].value_counts()"
   ]
  },
  {
   "cell_type": "markdown",
   "metadata": {},
   "source": [
    "### [Q9 4 points] For each Race, find the most common Sex among those who died."
   ]
  },
  {
   "cell_type": "code",
   "execution_count": 105,
   "metadata": {},
   "outputs": [
    {
     "data": {
      "text/plain": [
       "Race\n",
       "Asian Indian                Male\n",
       "Asian, Other                Male\n",
       "Black                       Male\n",
       "Chinese                   Female\n",
       "Hawaiian                    Male\n",
       "Hispanic, Black             Male\n",
       "Hispanic, White             Male\n",
       "Native American, Other      Male\n",
       "Other                       Male\n",
       "Unknown                     Male\n",
       "White                       Male\n",
       "dtype: object"
      ]
     },
     "execution_count": 105,
     "metadata": {},
     "output_type": "execute_result"
    }
   ],
   "source": [
    "race_sex_ct = pd.crosstab(drug_df['Sex'], drug_df['Race'])\n",
    "race_sex_ct.idxmax()"
   ]
  },
  {
   "cell_type": "markdown",
   "metadata": {},
   "source": [
    "### [Q10 4 points] Among the deaths where the COD is \"Cocaine Intoxication\", what fraction has a 'Y' under the Cocaine column?"
   ]
  },
  {
   "cell_type": "code",
   "execution_count": 121,
   "metadata": {},
   "outputs": [
    {
     "name": "stdout",
     "output_type": "stream",
     "text": [
      "There are only 42 Y's and no others\n"
     ]
    }
   ],
   "source": [
    "coc_mask = drug_df['COD'] == \"Cocaine Intoxication\"\n",
    "vc = drug_df[['COD', 'Cocaine']][coc_mask]['Cocaine'].value_counts()\n",
    "print(\"There are only {} Y's and no others\".format(list(vc)[0]))"
   ]
  },
  {
   "cell_type": "markdown",
   "metadata": {},
   "source": [
    "### [Q11 4 points] Among deaths where Cocaine is detected but the COD does not mention 'Cocaine' or 'COCAINE', what is the most common COD?"
   ]
  },
  {
   "cell_type": "code",
   "execution_count": 143,
   "metadata": {},
   "outputs": [
    {
     "name": "stderr",
     "output_type": "stream",
     "text": [
      "/opt/anaconda3/lib/python3.7/site-packages/ipykernel_launcher.py:10: UserWarning: Boolean Series key will be reindexed to match DataFrame index.\n",
      "  # Remove the CWD from sys.path while we load stuff.\n"
     ]
    },
    {
     "data": {
      "text/plain": [
       "Multiple Drug Toxicity    38\n",
       "Name: COD, dtype: int64"
      ]
     },
     "execution_count": 143,
     "metadata": {},
     "output_type": "execute_result"
    }
   ],
   "source": [
    "coc_mask2 = drug_df['Cocaine'] == \"Y\"\n",
    "\n",
    "def is_coc(s):\n",
    "    if ('Cocaine' in s) or 'COCAINE' in s:\n",
    "        return False\n",
    "    else:\n",
    "        return True\n",
    "    \n",
    "mask2 = drug_df['COD'].map(is_coc)\n",
    "drug_df[['COD', 'Cocaine']][coc_mask2][mask2]['COD'].value_counts()[:1]"
   ]
  },
  {
   "cell_type": "markdown",
   "metadata": {},
   "source": [
    "### [Q12 4 points] Plot number of deaths by Race.\n",
    "\n",
    "Remove the \"Unknown\" Race from the plot."
   ]
  },
  {
   "cell_type": "code",
   "execution_count": 157,
   "metadata": {},
   "outputs": [
    {
     "data": {
      "text/plain": [
       "<matplotlib.axes._subplots.AxesSubplot at 0x11a455ad0>"
      ]
     },
     "execution_count": 157,
     "metadata": {},
     "output_type": "execute_result"
    },
    {
     "data": {
      "image/png": "[encoded data removed]",
      "text/plain": [
       "<Figure size 432x288 with 1 Axes>"
      ]
     },
     "metadata": {
      "needs_background": "light"
     },
     "output_type": "display_data"
    }
   ],
   "source": [
    "races = drug_df['Race'].dropna().unique()\n",
    "race_count = drug_df['Race'].dropna().value_counts()\n",
    "race_df = pd.DataFrame(race_count, index=races)\n",
    "race_df.plot(kind='bar')"
   ]
  },
  {
   "cell_type": "markdown",
   "metadata": {},
   "source": [
    "### [Q13 4 points] LocationifOther data check\n",
    "\n",
    "The LocationifOther column is supposed to be used only if the Location column has the value \"Other\". Let us check this.\n",
    "\n",
    "Count the number of rows where LocationifOther is not missing, but Location is not Other."
   ]
  },
  {
   "cell_type": "code",
   "execution_count": 166,
   "metadata": {},
   "outputs": [
    {
     "name": "stdout",
     "output_type": "stream",
     "text": [
      "There are 27 rows where LocationifOther is not missing, but Location is not Other.\n"
     ]
    }
   ],
   "source": [
    "other_mask = drug_df['Location'] != \"Other\"\n",
    "c = drug_df[['Location','LocationifOther']][other_mask].dropna(subset=['LocationifOther'])['Location'].value_counts()\n",
    "print(\"There are {} rows where LocationifOther is not missing, but Location is not Other.\".format(list(c)[0]))"
   ]
  },
  {
   "cell_type": "markdown",
   "metadata": {},
   "source": [
    "### [Q14 4 points] What drugs never co-occur with OpiateNOS? **********************************\n",
    "\n",
    "Two drugs co-occur if there is at least one death where both those drugs had a \"Y\" under their columns.\n",
    "You should consider all the drugs whose names are listed in **drug_names**."
   ]
  },
  {
   "cell_type": "code",
   "execution_count": 320,
   "metadata": {},
   "outputs": [
    {
     "name": "stdout",
     "output_type": "stream",
     "text": [
      "Heroin, FentanylAnalogue, and Hydromorphone never co-occur with OpiateNOS\n"
     ]
    },
    {
     "data": {
      "text/html": [
       "<div>\n",
       "<style scoped>\n",
       "    .dataframe tbody tr th:only-of-type {\n",
       "        vertical-align: middle;\n",
       "    }\n",
       "\n",
       "    .dataframe tbody tr th {\n",
       "        vertical-align: top;\n",
       "    }\n",
       "\n",
       "    .dataframe thead th {\n",
       "        text-align: right;\n",
       "    }\n",
       "</style>\n",
       "<table border=\"1\" class=\"dataframe\">\n",
       "  <thead>\n",
       "    <tr style=\"text-align: right;\">\n",
       "      <th></th>\n",
       "      <th>Heroin</th>\n",
       "      <th>Cocaine</th>\n",
       "      <th>Fentanyl</th>\n",
       "      <th>FentanylAnalogue</th>\n",
       "      <th>Oxycodone</th>\n",
       "      <th>Oxymorphone</th>\n",
       "      <th>Ethanol</th>\n",
       "      <th>Hydrocodone</th>\n",
       "      <th>Benzodiazepine</th>\n",
       "      <th>Methadone</th>\n",
       "      <th>Amphet</th>\n",
       "      <th>Tramad</th>\n",
       "      <th>Morphine_NotHeroin</th>\n",
       "      <th>Hydromorphone</th>\n",
       "      <th>AnyOpioid</th>\n",
       "    </tr>\n",
       "    <tr>\n",
       "      <th>OpiateNOS</th>\n",
       "      <th></th>\n",
       "      <th></th>\n",
       "      <th></th>\n",
       "      <th></th>\n",
       "      <th></th>\n",
       "      <th></th>\n",
       "      <th></th>\n",
       "      <th></th>\n",
       "      <th></th>\n",
       "      <th></th>\n",
       "      <th></th>\n",
       "      <th></th>\n",
       "      <th></th>\n",
       "      <th></th>\n",
       "      <th></th>\n",
       "    </tr>\n",
       "  </thead>\n",
       "  <tbody>\n",
       "    <tr>\n",
       "      <th>Y</th>\n",
       "      <td>0</td>\n",
       "      <td>9</td>\n",
       "      <td>15</td>\n",
       "      <td>0</td>\n",
       "      <td>17</td>\n",
       "      <td>1</td>\n",
       "      <td>18</td>\n",
       "      <td>4</td>\n",
       "      <td>32</td>\n",
       "      <td>5</td>\n",
       "      <td>4</td>\n",
       "      <td>4</td>\n",
       "      <td>13</td>\n",
       "      <td>0</td>\n",
       "      <td>72</td>\n",
       "    </tr>\n",
       "  </tbody>\n",
       "</table>\n",
       "</div>"
      ],
      "text/plain": [
       "           Heroin  Cocaine  Fentanyl  FentanylAnalogue  Oxycodone  \\\n",
       "OpiateNOS                                                           \n",
       "Y               0        9        15                 0         17   \n",
       "\n",
       "           Oxymorphone  Ethanol  Hydrocodone  Benzodiazepine  Methadone  \\\n",
       "OpiateNOS                                                                 \n",
       "Y                    1       18            4              32          5   \n",
       "\n",
       "           Amphet  Tramad  Morphine_NotHeroin  Hydromorphone  AnyOpioid  \n",
       "OpiateNOS                                                                \n",
       "Y               4       4                  13              0         72  "
      ]
     },
     "execution_count": 320,
     "metadata": {},
     "output_type": "execute_result"
    }
   ],
   "source": [
    "opNOS_mask = drug_df[drug_names][\"OpiateNOS\"] == \"Y\"\n",
    "\n",
    "# def co_occur(s):\n",
    "#     if drug_df[s].value_counts.index\n",
    "opnos_df = drug_df[drug_names][opNOS_mask]\n",
    "drug_names_2 = ['Heroin', 'Cocaine', 'Fentanyl', 'FentanylAnalogue', 'Oxycodone', 'Oxymorphone',\n",
    "              'Ethanol', 'Hydrocodone', 'Benzodiazepine', 'Methadone', 'Amphet', 'Tramad',\n",
    "              'Morphine_NotHeroin', 'Hydromorphone', 'AnyOpioid']\n",
    "print(\"Heroin, FentanylAnalogue, and Hydromorphone never co-occur with OpiateNOS\")\n",
    "opnos_df.groupby('OpiateNOS')[drug_names_2].agg('count')"
   ]
  },
  {
   "cell_type": "markdown",
   "metadata": {},
   "source": [
    "### [Q15 4 points] Create a column called DeathCityLatLong\n",
    "\n",
    "Extract the latitude and longitude from the DeathCityGeo column. For example,\n",
    "* If DeathCityGeo is \"Norwalk, CT\\n(41.11805, -73.412906)\", then the DeathCityLatLong column should have the value \"41.11805, -73.412906\"\n",
    "\n",
    "Print out the DeathCityGeo and DeathCityLatLong columns for the first 5 rows."
   ]
  },
  {
   "cell_type": "code",
   "execution_count": 215,
   "metadata": {},
   "outputs": [
    {
     "data": {
      "text/html": [
       "<div>\n",
       "<style scoped>\n",
       "    .dataframe tbody tr th:only-of-type {\n",
       "        vertical-align: middle;\n",
       "    }\n",
       "\n",
       "    .dataframe tbody tr th {\n",
       "        vertical-align: top;\n",
       "    }\n",
       "\n",
       "    .dataframe thead th {\n",
       "        text-align: right;\n",
       "    }\n",
       "</style>\n",
       "<table border=\"1\" class=\"dataframe\">\n",
       "  <thead>\n",
       "    <tr style=\"text-align: right;\">\n",
       "      <th></th>\n",
       "      <th>DeathCityGeo</th>\n",
       "      <th>DeathCityLatLong</th>\n",
       "    </tr>\n",
       "  </thead>\n",
       "  <tbody>\n",
       "    <tr>\n",
       "      <th>0</th>\n",
       "      <td>CT\\n(41.575155, -72.738288)</td>\n",
       "      <td>41.575155,-72.738288</td>\n",
       "    </tr>\n",
       "    <tr>\n",
       "      <th>1</th>\n",
       "      <td>Norwalk, CT\\n(41.11805, -73.412906)</td>\n",
       "      <td>41.11805,-73.412906</td>\n",
       "    </tr>\n",
       "    <tr>\n",
       "      <th>2</th>\n",
       "      <td>Danbury, CT\\n(41.393666, -73.451539)</td>\n",
       "      <td>41.393666,-73.451539</td>\n",
       "    </tr>\n",
       "    <tr>\n",
       "      <th>3</th>\n",
       "      <td>Greenwich, CT\\n(41.026526, -73.628549)</td>\n",
       "      <td>41.026526,-73.628549</td>\n",
       "    </tr>\n",
       "    <tr>\n",
       "      <th>4</th>\n",
       "      <td>Greenwich, CT\\n(41.026526, -73.628549)</td>\n",
       "      <td>41.026526,-73.628549</td>\n",
       "    </tr>\n",
       "  </tbody>\n",
       "</table>\n",
       "</div>"
      ],
      "text/plain": [
       "                             DeathCityGeo      DeathCityLatLong\n",
       "0             CT\\n(41.575155, -72.738288)  41.575155,-72.738288\n",
       "1     Norwalk, CT\\n(41.11805, -73.412906)   41.11805,-73.412906\n",
       "2    Danbury, CT\\n(41.393666, -73.451539)  41.393666,-73.451539\n",
       "3  Greenwich, CT\\n(41.026526, -73.628549)  41.026526,-73.628549\n",
       "4  Greenwich, CT\\n(41.026526, -73.628549)  41.026526,-73.628549"
      ]
     },
     "execution_count": 215,
     "metadata": {},
     "output_type": "execute_result"
    }
   ],
   "source": [
    "def latlong(s):\n",
    "    lst = re.findall('[0-9.-]+', s)\n",
    "    return ','.join(lst) \n",
    "\n",
    "l = drug_df['DeathCityGeo'].map(latlong)\n",
    "\n",
    "drug_df['DeathCityLatLong'] = l\n",
    "drug_df[['DeathCityGeo', 'DeathCityLatLong']].head()\n"
   ]
  },
  {
   "cell_type": "markdown",
   "metadata": {},
   "source": [
    "### [Q16 6 points] Data check\n",
    "\n",
    "* Find all deaths where the COD has two words, and the last word is Intoxication. Call these \"one-COD deaths\".\n",
    "    * For example, if COD is \"Cocaine Intoxication\", then it is a one-COD death.\n",
    "    * But if COD is \"Cocaine and Heroin Intoxication\", it is not a one-COD death.\n",
    "* For every one-COD death, figure out how many drug_names were found in the person's blood\n",
    "    * So if there was a \"Y\" under the columns \"Cocaine\" and \"AnyOpioid\", we count that as 2 drugs.\n",
    "* Find out how many \"one-COD deaths\" actually had two or more drug_names in the person's blood.\n",
    "\n",
    "**Note**: You may find that \"Heroin\" and \"AnyOpioid\" are both \"Y\", but the COD only says \"Heroin Intoxication\". We will count that as two drugs in the person's blood, even though Heroin is actually an Opioid and this is not really a data error."
   ]
  },
  {
   "cell_type": "code",
   "execution_count": 236,
   "metadata": {},
   "outputs": [
    {
     "data": {
      "text/plain": [
       "32"
      ]
     },
     "execution_count": 236,
     "metadata": {},
     "output_type": "execute_result"
    }
   ],
   "source": [
    "def word_counter(s):\n",
    "    lst = s.split()\n",
    "    return len(lst) == 2 and lst[1] == \"Intoxication\"\n",
    "\n",
    "mask3 = drug_df['COD'].map(word_counter)\n",
    "one_COD_deaths_df = drug_df[mask3]\n",
    "\n",
    "mask4 = one_COD_deaths_df[drug_names].count(axis=1) >= 2\n",
    "len(one_COD_deaths_df[mask4])"
   ]
  },
  {
   "cell_type": "markdown",
   "metadata": {},
   "source": [
    "### [ Q17 6 points] Plot the number of deaths every month.\n",
    "\n",
    "The x-axis should be the month, and the y-axis the number of deaths (i.e., rows) for that month."
   ]
  },
  {
   "cell_type": "code",
   "execution_count": 311,
   "metadata": {},
   "outputs": [
    {
     "data": {
      "text/plain": [
       "<matplotlib.axes._subplots.AxesSubplot at 0x11c30b1d0>"
      ]
     },
     "execution_count": 311,
     "metadata": {},
     "output_type": "execute_result"
    },
    {
     "data": {
      "image/png": "[encoded data removed]",
      "text/plain": [
       "<Figure size 1080x720 with 1 Axes>"
      ]
     },
     "metadata": {
      "needs_background": "light"
     },
     "output_type": "display_data"
    }
   ],
   "source": [
    "drug_df['Date'] = pd.to_datetime(drug_df['Date'])\n",
    "\n",
    "def mm_yr(d):\n",
    "    return d.to_period('M')\n",
    "\n",
    "drug_df['Date_MM'] = drug_df['Date'].map(mm_yr)\n",
    "drug_df['Date_MM'].value_counts().plot(kind='bar',figsize=(15,10))"
   ]
  },
  {
   "cell_type": "markdown",
   "metadata": {},
   "source": [
    "### [Q18 6 points] Drug Cocktails\n",
    "Look at deaths where COD mentions the word 'COMBINED'.\n",
    "Among these deaths, count how many drugs were involved by checking how many of the drug name columns had a 'Y'\n",
    "Show a bar plot where the x-axis is the number of drugs used, and the y-axis is the number of deaths caused by this drug cocktail."
   ]
  },
  {
   "cell_type": "code",
   "execution_count": 262,
   "metadata": {},
   "outputs": [
    {
     "data": {
      "text/plain": [
       "<matplotlib.axes._subplots.AxesSubplot at 0x11ba351d0>"
      ]
     },
     "execution_count": 262,
     "metadata": {},
     "output_type": "execute_result"
    },
    {
     "data": {
      "image/png": "[encoded data removed]",
      "text/plain": [
       "<Figure size 432x288 with 1 Axes>"
      ]
     },
     "metadata": {
      "needs_background": "light"
     },
     "output_type": "display_data"
    }
   ],
   "source": [
    "def mention(s):\n",
    "    return \"COMBINED\" in s\n",
    "\n",
    "mask5 = drug_df['COD'].map(mention)\n",
    "x = drug_df[mask5][drug_names].count(axis=1)\n",
    "drug_df['drug_cocktails_counts'] = x\n",
    "drug_df[mask5]['drug_cocktails_counts'].value_counts().plot(kind='bar')"
   ]
  },
  {
   "cell_type": "markdown",
   "metadata": {},
   "source": [
    "### [Q19 8 points] Differences between races\n",
    "\n",
    "* For each DeathCity and Race, figure out how many people had a particular drug in their blood when they died. For example,\n",
    "    * among Whites in City A, there may be 50 deaths with Cocaine and 12 with Heroin.\n",
    "    * among Asians in City A, there may be 30 Heroin and 20 Cocaine deaths.\n",
    "    * among Hispanics in City A, there may be 19 Cocaine and 18 Heroin deaths.\n",
    "* Now, figure out the top drug which caused the most deaths for each DeathCity and Race. Only consider drugs that killed at least 20 people of that Race in that DeathCity; if there is no such drug, just act as if no one of that Race died in that DeathCity.\n",
    "    * among Whites in City A, Cocaine is the top drug.\n",
    "    * among Asians in City A, it is Heroin.\n",
    "    * among Hispanics in City A, no drug led to at least 20 deaths, so there is no top drug.\n",
    "* Now, print out the DeathCities for which the top drug is different for at least two Races.\n",
    "    * Since the top drugs in City A are Cocaine (Whites) and Heroin (Asians), print out City A.\n",
    "    * But if a City B had Cocaine (Whites) and Cocaine (Asians), don't print out City B.\n",
    "    * Or if a City C had Heroin (Asians) but no other race had enough deaths to have a top drug, don't print out City C."
   ]
  },
  {
   "cell_type": "code",
   "execution_count": 329,
   "metadata": {},
   "outputs": [
    {
     "data": {
      "text/html": [
       "<div>\n",
       "<style scoped>\n",
       "    .dataframe tbody tr th:only-of-type {\n",
       "        vertical-align: middle;\n",
       "    }\n",
       "\n",
       "    .dataframe tbody tr th {\n",
       "        vertical-align: top;\n",
       "    }\n",
       "\n",
       "    .dataframe thead th {\n",
       "        text-align: right;\n",
       "    }\n",
       "</style>\n",
       "<table border=\"1\" class=\"dataframe\">\n",
       "  <thead>\n",
       "    <tr style=\"text-align: right;\">\n",
       "      <th>Race</th>\n",
       "      <th>Asian Indian</th>\n",
       "      <th>Asian, Other</th>\n",
       "      <th>Black</th>\n",
       "      <th>Chinese</th>\n",
       "      <th>Hawaiian</th>\n",
       "      <th>Hispanic, Black</th>\n",
       "      <th>Hispanic, White</th>\n",
       "      <th>Native American, Other</th>\n",
       "      <th>Other</th>\n",
       "      <th>Unknown</th>\n",
       "      <th>White</th>\n",
       "    </tr>\n",
       "    <tr>\n",
       "      <th>DeathCity</th>\n",
       "      <th></th>\n",
       "      <th></th>\n",
       "      <th></th>\n",
       "      <th></th>\n",
       "      <th></th>\n",
       "      <th></th>\n",
       "      <th></th>\n",
       "      <th></th>\n",
       "      <th></th>\n",
       "      <th></th>\n",
       "      <th></th>\n",
       "    </tr>\n",
       "  </thead>\n",
       "  <tbody>\n",
       "    <tr>\n",
       "      <th>6340</th>\n",
       "      <td>0</td>\n",
       "      <td>0</td>\n",
       "      <td>0</td>\n",
       "      <td>0</td>\n",
       "      <td>0</td>\n",
       "      <td>0</td>\n",
       "      <td>0</td>\n",
       "      <td>0</td>\n",
       "      <td>0</td>\n",
       "      <td>0</td>\n",
       "      <td>1</td>\n",
       "    </tr>\n",
       "    <tr>\n",
       "      <th>AMSTON</th>\n",
       "      <td>0</td>\n",
       "      <td>0</td>\n",
       "      <td>0</td>\n",
       "      <td>0</td>\n",
       "      <td>0</td>\n",
       "      <td>0</td>\n",
       "      <td>0</td>\n",
       "      <td>0</td>\n",
       "      <td>0</td>\n",
       "      <td>0</td>\n",
       "      <td>1</td>\n",
       "    </tr>\n",
       "    <tr>\n",
       "      <th>ANDOVER</th>\n",
       "      <td>0</td>\n",
       "      <td>0</td>\n",
       "      <td>0</td>\n",
       "      <td>0</td>\n",
       "      <td>0</td>\n",
       "      <td>0</td>\n",
       "      <td>0</td>\n",
       "      <td>0</td>\n",
       "      <td>0</td>\n",
       "      <td>0</td>\n",
       "      <td>3</td>\n",
       "    </tr>\n",
       "    <tr>\n",
       "      <th>ANSONIA</th>\n",
       "      <td>0</td>\n",
       "      <td>0</td>\n",
       "      <td>2</td>\n",
       "      <td>0</td>\n",
       "      <td>0</td>\n",
       "      <td>0</td>\n",
       "      <td>1</td>\n",
       "      <td>0</td>\n",
       "      <td>0</td>\n",
       "      <td>0</td>\n",
       "      <td>20</td>\n",
       "    </tr>\n",
       "    <tr>\n",
       "      <th>ASHFORD</th>\n",
       "      <td>0</td>\n",
       "      <td>0</td>\n",
       "      <td>0</td>\n",
       "      <td>0</td>\n",
       "      <td>0</td>\n",
       "      <td>0</td>\n",
       "      <td>0</td>\n",
       "      <td>0</td>\n",
       "      <td>0</td>\n",
       "      <td>0</td>\n",
       "      <td>6</td>\n",
       "    </tr>\n",
       "    <tr>\n",
       "      <th>...</th>\n",
       "      <td>...</td>\n",
       "      <td>...</td>\n",
       "      <td>...</td>\n",
       "      <td>...</td>\n",
       "      <td>...</td>\n",
       "      <td>...</td>\n",
       "      <td>...</td>\n",
       "      <td>...</td>\n",
       "      <td>...</td>\n",
       "      <td>...</td>\n",
       "      <td>...</td>\n",
       "    </tr>\n",
       "    <tr>\n",
       "      <th>WINSTED</th>\n",
       "      <td>0</td>\n",
       "      <td>0</td>\n",
       "      <td>0</td>\n",
       "      <td>0</td>\n",
       "      <td>0</td>\n",
       "      <td>0</td>\n",
       "      <td>0</td>\n",
       "      <td>0</td>\n",
       "      <td>0</td>\n",
       "      <td>0</td>\n",
       "      <td>12</td>\n",
       "    </tr>\n",
       "    <tr>\n",
       "      <th>WOLCOTT</th>\n",
       "      <td>0</td>\n",
       "      <td>0</td>\n",
       "      <td>0</td>\n",
       "      <td>0</td>\n",
       "      <td>0</td>\n",
       "      <td>0</td>\n",
       "      <td>1</td>\n",
       "      <td>0</td>\n",
       "      <td>0</td>\n",
       "      <td>0</td>\n",
       "      <td>1</td>\n",
       "    </tr>\n",
       "    <tr>\n",
       "      <th>WOODBRIDGE</th>\n",
       "      <td>0</td>\n",
       "      <td>0</td>\n",
       "      <td>0</td>\n",
       "      <td>0</td>\n",
       "      <td>0</td>\n",
       "      <td>0</td>\n",
       "      <td>0</td>\n",
       "      <td>0</td>\n",
       "      <td>0</td>\n",
       "      <td>0</td>\n",
       "      <td>4</td>\n",
       "    </tr>\n",
       "    <tr>\n",
       "      <th>WOODBURY</th>\n",
       "      <td>0</td>\n",
       "      <td>0</td>\n",
       "      <td>0</td>\n",
       "      <td>0</td>\n",
       "      <td>0</td>\n",
       "      <td>0</td>\n",
       "      <td>0</td>\n",
       "      <td>0</td>\n",
       "      <td>0</td>\n",
       "      <td>0</td>\n",
       "      <td>3</td>\n",
       "    </tr>\n",
       "    <tr>\n",
       "      <th>WOODSTOCK</th>\n",
       "      <td>0</td>\n",
       "      <td>0</td>\n",
       "      <td>0</td>\n",
       "      <td>0</td>\n",
       "      <td>0</td>\n",
       "      <td>0</td>\n",
       "      <td>0</td>\n",
       "      <td>0</td>\n",
       "      <td>0</td>\n",
       "      <td>0</td>\n",
       "      <td>4</td>\n",
       "    </tr>\n",
       "  </tbody>\n",
       "</table>\n",
       "<p>222 rows × 11 columns</p>\n",
       "</div>"
      ],
      "text/plain": [
       "Race        Asian Indian  Asian, Other  Black  Chinese  Hawaiian  \\\n",
       "DeathCity                                                          \n",
       "6340                   0             0      0        0         0   \n",
       "AMSTON                 0             0      0        0         0   \n",
       "ANDOVER                0             0      0        0         0   \n",
       "ANSONIA                0             0      2        0         0   \n",
       "ASHFORD                0             0      0        0         0   \n",
       "...                  ...           ...    ...      ...       ...   \n",
       "WINSTED                0             0      0        0         0   \n",
       "WOLCOTT                0             0      0        0         0   \n",
       "WOODBRIDGE             0             0      0        0         0   \n",
       "WOODBURY               0             0      0        0         0   \n",
       "WOODSTOCK              0             0      0        0         0   \n",
       "\n",
       "Race        Hispanic, Black  Hispanic, White  Native American, Other  Other  \\\n",
       "DeathCity                                                                     \n",
       "6340                      0                0                       0      0   \n",
       "AMSTON                    0                0                       0      0   \n",
       "ANDOVER                   0                0                       0      0   \n",
       "ANSONIA                   0                1                       0      0   \n",
       "ASHFORD                   0                0                       0      0   \n",
       "...                     ...              ...                     ...    ...   \n",
       "WINSTED                   0                0                       0      0   \n",
       "WOLCOTT                   0                1                       0      0   \n",
       "WOODBRIDGE                0                0                       0      0   \n",
       "WOODBURY                  0                0                       0      0   \n",
       "WOODSTOCK                 0                0                       0      0   \n",
       "\n",
       "Race        Unknown  White  \n",
       "DeathCity                   \n",
       "6340              0      1  \n",
       "AMSTON            0      1  \n",
       "ANDOVER           0      3  \n",
       "ANSONIA           0     20  \n",
       "ASHFORD           0      6  \n",
       "...             ...    ...  \n",
       "WINSTED           0     12  \n",
       "WOLCOTT           0      1  \n",
       "WOODBRIDGE        0      4  \n",
       "WOODBURY          0      3  \n",
       "WOODSTOCK         0      4  \n",
       "\n",
       "[222 rows x 11 columns]"
      ]
     },
     "execution_count": 329,
     "metadata": {},
     "output_type": "execute_result"
    }
   ],
   "source": [
    "df23 = drug_df[['DeathCity', 'Race']].dropna()\n",
    "ct_dr = pd.crosstab(drug_df['DeathCity'], drug_df['Race'])\n",
    "ct_dr"
   ]
  },
  {
   "cell_type": "markdown",
   "metadata": {},
   "source": [
    "---\n",
    "\n",
    "We will try to predict chess games, using the file *games.csv*.\n",
    "\n",
    "### [Q20(a) 7 points] Train and test accuracies\n",
    "\n",
    "* Load in the games.csv file. \n",
    "* Split it into training and testing sets, where 80% of the data is used for training. \n",
    "* Use a logistic regression classifier to predict whether white will win or not.\n",
    "    * Check if the \"winner\" column is \"white\" or not.\n",
    "    * You should only use \"white_rating\", \"black_rating\" and \"opening_name\" as features. Don't use any other columns as features.\n",
    "* Print the training and test accuracies."
   ]
  },
  {
   "cell_type": "code",
   "execution_count": 277,
   "metadata": {},
   "outputs": [
    {
     "name": "stderr",
     "output_type": "stream",
     "text": [
      "/opt/anaconda3/lib/python3.7/site-packages/ipykernel_launcher.py:9: SettingWithCopyWarning: \n",
      "A value is trying to be set on a copy of a slice from a DataFrame\n",
      "\n",
      "See the caveats in the documentation: https://pandas.pydata.org/pandas-docs/stable/user_guide/indexing.html#returning-a-view-versus-a-copy\n",
      "  if __name__ == '__main__':\n",
      "/opt/anaconda3/lib/python3.7/site-packages/sklearn/utils/validation.py:760: DataConversionWarning: A column-vector y was passed when a 1d array was expected. Please change the shape of y to (n_samples, ), for example using ravel().\n",
      "  y = column_or_1d(y, warn=True)\n"
     ]
    },
    {
     "name": "stdout",
     "output_type": "stream",
     "text": [
      "Training Accuracy: 0.6728156549918983       Test Accuracy: 0.6333499501495513\n"
     ]
    }
   ],
   "source": [
    "games_df = pd.read_csv(\"games.csv\")\n",
    "\n",
    "from sklearn.model_selection import train_test_split\n",
    "from sklearn.linear_model import LogisticRegression\n",
    "from sklearn import metrics\n",
    "from patsy import dmatrices\n",
    "\n",
    "games_df['target'] = 0.0\n",
    "games_df['target'][games_df['winner'] == \"white\"] = 1.0\n",
    "\n",
    "formula = 'target ~ 0 + white_rating + black_rating + opening_name'\n",
    "\n",
    "y, x = dmatrices(formula, games_df, return_type='dataframe')\n",
    "\n",
    "x_train, x_test, y_train, y_test = train_test_split(x, y, test_size=0.2, random_state=1)\n",
    "\n",
    "model = LogisticRegression()\n",
    "result = model.fit(x_train, y_train)\n",
    "\n",
    "yhat_train = model.predict(x_train)\n",
    "train_acc = metrics.accuracy_score(y_train, yhat_train) # 0.6728156549918983\n",
    "\n",
    "yhat = model.predict(x_test)\n",
    "test_acc = metrics.accuracy_score(y_test, yhat)  #0.6333499501495513\n",
    "\n",
    "print(\"Training Accuracy: {}       Test Accuracy: {}\".format(train_acc, test_acc))"
   ]
  },
  {
   "cell_type": "markdown",
   "metadata": {},
   "source": [
    "### [Q20(b) 3 points] Probability of win\n",
    "\n",
    "Print the probability of white winning a game where the game has the following features:\n",
    "* white_rating is 2000\n",
    "* black_rating is 1500\n",
    "* All other features are exactly the same as in the first row of the games.csv file."
   ]
  },
  {
   "cell_type": "code",
   "execution_count": 284,
   "metadata": {},
   "outputs": [
    {
     "name": "stderr",
     "output_type": "stream",
     "text": [
      "/opt/anaconda3/lib/python3.7/site-packages/ipykernel_launcher.py:5: SettingWithCopyWarning: \n",
      "A value is trying to be set on a copy of a slice from a DataFrame\n",
      "\n",
      "See the caveats in the documentation: https://pandas.pydata.org/pandas-docs/stable/user_guide/indexing.html#returning-a-view-versus-a-copy\n",
      "  \"\"\"\n",
      "/opt/anaconda3/lib/python3.7/site-packages/sklearn/utils/validation.py:760: DataConversionWarning: A column-vector y was passed when a 1d array was expected. Please change the shape of y to (n_samples, ), for example using ravel().\n",
      "  y = column_or_1d(y, warn=True)\n"
     ]
    },
    {
     "name": "stdout",
     "output_type": "stream",
     "text": [
      "Training Accuracy: 0.6728156549918983       Test Accuracy: 0.6333499501495513\n"
     ]
    }
   ],
   "source": [
    "new_games_df = pd.DataFrame({\"turns\": 13, \"winner\": \"white\", \"white_rating\":2000, \"black_rating\":1500, \\\n",
    "                             \"opening_name\":\"Slav Defense: Exchange Variation\", \"opening_ply\":5}, index=['0'])\n",
    "\n",
    "new_games_df['target'] = 0.0\n",
    "new_games_df['target'][new_games_df['winner'] == \"white\"] = 1.0\n",
    "\n",
    "formula = 'target ~ 0 + white_rating + black_rating + opening_name'\n",
    "\n",
    "y, x = dmatrices(formula, games_df, return_type='dataframe')\n",
    "\n",
    "x_train, x_test, y_train, y_test = train_test_split(x, y, test_size=0.2, random_state=1)\n",
    "\n",
    "model = LogisticRegression()\n",
    "result = model.fit(x_train, y_train)\n",
    "\n",
    "yhat_train = model.predict(x_train)\n",
    "train_acc = metrics.accuracy_score(y_train, yhat_train) # 0.6728156549918983\n",
    "\n",
    "yhat = model.predict(x_test)\n",
    "test_acc = metrics.accuracy_score(y_test, yhat)  #0.6333499501495513\n",
    "\n",
    "print(\"Training Accuracy: {}       Test Accuracy: {}\".format(train_acc, test_acc))"
   ]
  },
  {
   "cell_type": "code",
   "execution_count": 285,
   "metadata": {},
   "outputs": [
    {
     "data": {
      "image/png": "[encoded data removed]",
      "text/plain": [
       "<Figure size 576x576 with 1 Axes>"
      ]
     },
     "metadata": {
      "needs_background": "light"
     },
     "output_type": "display_data"
    }
   ],
   "source": [
    "from sklearn.metrics import classification_report, confusion_matrix\n",
    "confusion_mat = confusion_matrix(y_test, yhat)\n",
    "\n",
    "fig, ax = plt.subplots(figsize=(8, 8))\n",
    "ax.imshow(confusion_mat)\n",
    "ax.grid(False)\n",
    "ax.xaxis.set(ticks=(0, 1), ticklabels=('Predicted 0s', 'Predicted 1s'))\n",
    "ax.yaxis.set(ticks=(0, 1), ticklabels=('Actual 0s', 'Actual 1s'))\n",
    "ax.set_ylim(1.5, -0.5)\n",
    "for i in range(2):\n",
    "    for j in range(2):\n",
    "        ax.text(j, i, confusion_mat[i, j], ha='center', va='center', color='white')"
   ]
  },
  {
   "cell_type": "code",
   "execution_count": 287,
   "metadata": {},
   "outputs": [
    {
     "name": "stdout",
     "output_type": "stream",
     "text": [
      "The probability of white winning a game is: 0.6095617529880478\n"
     ]
    }
   ],
   "source": [
    "specificity = (1224) / (1224 + 784)\n",
    "print(\"The probability of white winning a game is: {}\".format(specificity))"
   ]
  },
  {
   "cell_type": "code",
   "execution_count": null,
   "metadata": {},
   "outputs": [],
   "source": []
  }
 ],
 "metadata": {
  "kernelspec": {
   "display_name": "Python 3",
   "language": "python",
   "name": "python3"
  },
  "language_info": {
   "codemirror_mode": {
    "name": "ipython",
    "version": 3
   },
   "file_extension": ".py",
   "mimetype": "text/x-python",
   "name": "python",
   "nbconvert_exporter": "python",
   "pygments_lexer": "ipython3",
   "version": "3.7.6"
  }
 },
 "nbformat": 4,
 "nbformat_minor": 4
}
