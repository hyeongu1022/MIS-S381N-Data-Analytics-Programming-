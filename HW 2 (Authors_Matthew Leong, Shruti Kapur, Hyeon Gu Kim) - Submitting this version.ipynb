{
 "cells": [
  {
   "cell_type": "markdown",
   "metadata": {
    "colab_type": "text",
    "id": "vXiH8-mwg3e0"
   },
   "source": [
    "# Data Analytics: Homework 2"
   ]
  },
  {
   "cell_type": "markdown",
   "metadata": {
    "colab_type": "text",
    "id": "gb8YR6txg3WV"
   },
   "source": [
    "### Authors: Matthew Leong, Shruti Kapur, Hyeon Gu Kim\n",
    "\n"
   ]
  },
  {
   "cell_type": "markdown",
   "metadata": {
    "colab_type": "text",
    "id": "-CalVYhyg2wV"
   },
   "source": [
    "### Setup:"
   ]
  },
  {
   "cell_type": "code",
   "execution_count": 1,
   "metadata": {
    "colab": {
     "base_uri": "https://localhost:8080/",
     "height": 85
    },
    "colab_type": "code",
    "id": "62It3O8ohiyG",
    "outputId": "8611b894-687f-45c2-99fa-7d09b578738b"
   },
   "outputs": [
    {
     "name": "stdout",
     "output_type": "stream",
     "text": [
      "Populating the interactive namespace from numpy and matplotlib\n"
     ]
    }
   ],
   "source": [
    "#Code block to import in various modules/libraries\n",
    "from pandas import Series,DataFrame\n",
    "import pandas as pd\n",
    "%pylab inline\n",
    "\n",
    "df = pd.read_csv('NYC_Restaurants.csv', dtype=str)"
   ]
  },
  {
   "cell_type": "markdown",
   "metadata": {
    "colab_type": "text",
    "id": "s54Elk-kchzb"
   },
   "source": [
    "## Q1) Create a unique name for each restaurant."
   ]
  },
  {
   "cell_type": "code",
   "execution_count": 2,
   "metadata": {
    "colab": {
     "base_uri": "https://localhost:8080/",
     "height": 1000
    },
    "colab_type": "code",
    "id": "wHYCcUTjikVm",
    "outputId": "14f298a1-a176-4614-fed6-decd0a20d212"
   },
   "outputs": [
    {
     "data": {
      "text/html": [
       "<div>\n",
       "<style scoped>\n",
       "    .dataframe tbody tr th:only-of-type {\n",
       "        vertical-align: middle;\n",
       "    }\n",
       "\n",
       "    .dataframe tbody tr th {\n",
       "        vertical-align: top;\n",
       "    }\n",
       "\n",
       "    .dataframe thead th {\n",
       "        text-align: right;\n",
       "    }\n",
       "</style>\n",
       "<table border=\"1\" class=\"dataframe\">\n",
       "  <thead>\n",
       "    <tr style=\"text-align: right;\">\n",
       "      <th></th>\n",
       "      <th>Unnamed: 0</th>\n",
       "      <th>CAMIS</th>\n",
       "      <th>DBA</th>\n",
       "      <th>BORO</th>\n",
       "      <th>BUILDING</th>\n",
       "      <th>STREET</th>\n",
       "      <th>ZIPCODE</th>\n",
       "      <th>PHONE</th>\n",
       "      <th>CUISINE DESCRIPTION</th>\n",
       "      <th>INSPECTION DATE</th>\n",
       "      <th>ACTION</th>\n",
       "      <th>VIOLATION CODE</th>\n",
       "      <th>VIOLATION DESCRIPTION</th>\n",
       "      <th>CRITICAL FLAG</th>\n",
       "      <th>SCORE</th>\n",
       "      <th>GRADE</th>\n",
       "      <th>GRADE DATE</th>\n",
       "      <th>RECORD DATE</th>\n",
       "      <th>INSPECTION TYPE</th>\n",
       "      <th>RESTAURANT</th>\n",
       "    </tr>\n",
       "  </thead>\n",
       "  <tbody>\n",
       "    <tr>\n",
       "      <th>0</th>\n",
       "      <td>0</td>\n",
       "      <td>30112340</td>\n",
       "      <td>WENDY'S</td>\n",
       "      <td>BROOKLYN</td>\n",
       "      <td>469</td>\n",
       "      <td>FLATBUSH AVENUE</td>\n",
       "      <td>11225</td>\n",
       "      <td>7182875005</td>\n",
       "      <td>Hamburgers</td>\n",
       "      <td>12/30/2014</td>\n",
       "      <td>Violations were cited in the following area(s).</td>\n",
       "      <td>06C</td>\n",
       "      <td>Food not protected from potential source of co...</td>\n",
       "      <td>Critical</td>\n",
       "      <td>8</td>\n",
       "      <td>A</td>\n",
       "      <td>12/30/2014</td>\n",
       "      <td>02/12/2015</td>\n",
       "      <td>Cycle Inspection / Re-inspection</td>\n",
       "      <td>WENDY'S 469FLATBUSH AVENUE 11225 BROOKLYN</td>\n",
       "    </tr>\n",
       "    <tr>\n",
       "      <th>1</th>\n",
       "      <td>1</td>\n",
       "      <td>30112340</td>\n",
       "      <td>WENDY'S</td>\n",
       "      <td>BROOKLYN</td>\n",
       "      <td>469</td>\n",
       "      <td>FLATBUSH AVENUE</td>\n",
       "      <td>11225</td>\n",
       "      <td>7182875005</td>\n",
       "      <td>Hamburgers</td>\n",
       "      <td>12/30/2014</td>\n",
       "      <td>Violations were cited in the following area(s).</td>\n",
       "      <td>10F</td>\n",
       "      <td>Non-food contact surface improperly constructe...</td>\n",
       "      <td>Not Critical</td>\n",
       "      <td>8</td>\n",
       "      <td>A</td>\n",
       "      <td>12/30/2014</td>\n",
       "      <td>02/12/2015</td>\n",
       "      <td>Cycle Inspection / Re-inspection</td>\n",
       "      <td>WENDY'S 469FLATBUSH AVENUE 11225 BROOKLYN</td>\n",
       "    </tr>\n",
       "    <tr>\n",
       "      <th>2</th>\n",
       "      <td>2</td>\n",
       "      <td>30112340</td>\n",
       "      <td>WENDY'S</td>\n",
       "      <td>BROOKLYN</td>\n",
       "      <td>469</td>\n",
       "      <td>FLATBUSH AVENUE</td>\n",
       "      <td>11225</td>\n",
       "      <td>7182875005</td>\n",
       "      <td>Hamburgers</td>\n",
       "      <td>11/13/2014</td>\n",
       "      <td>Violations were cited in the following area(s).</td>\n",
       "      <td>04H</td>\n",
       "      <td>Raw, cooked or prepared food is adulterated, c...</td>\n",
       "      <td>Critical</td>\n",
       "      <td>16</td>\n",
       "      <td>NaN</td>\n",
       "      <td>NaN</td>\n",
       "      <td>02/12/2015</td>\n",
       "      <td>Cycle Inspection / Initial Inspection</td>\n",
       "      <td>WENDY'S 469FLATBUSH AVENUE 11225 BROOKLYN</td>\n",
       "    </tr>\n",
       "    <tr>\n",
       "      <th>3</th>\n",
       "      <td>3</td>\n",
       "      <td>30112340</td>\n",
       "      <td>WENDY'S</td>\n",
       "      <td>BROOKLYN</td>\n",
       "      <td>469</td>\n",
       "      <td>FLATBUSH AVENUE</td>\n",
       "      <td>11225</td>\n",
       "      <td>7182875005</td>\n",
       "      <td>Hamburgers</td>\n",
       "      <td>11/13/2014</td>\n",
       "      <td>Violations were cited in the following area(s).</td>\n",
       "      <td>06A</td>\n",
       "      <td>Personal cleanliness inadequate. Outer garment...</td>\n",
       "      <td>Critical</td>\n",
       "      <td>16</td>\n",
       "      <td>NaN</td>\n",
       "      <td>NaN</td>\n",
       "      <td>02/12/2015</td>\n",
       "      <td>Cycle Inspection / Initial Inspection</td>\n",
       "      <td>WENDY'S 469FLATBUSH AVENUE 11225 BROOKLYN</td>\n",
       "    </tr>\n",
       "    <tr>\n",
       "      <th>4</th>\n",
       "      <td>4</td>\n",
       "      <td>30112340</td>\n",
       "      <td>WENDY'S</td>\n",
       "      <td>BROOKLYN</td>\n",
       "      <td>469</td>\n",
       "      <td>FLATBUSH AVENUE</td>\n",
       "      <td>11225</td>\n",
       "      <td>7182875005</td>\n",
       "      <td>Hamburgers</td>\n",
       "      <td>11/13/2014</td>\n",
       "      <td>Violations were cited in the following area(s).</td>\n",
       "      <td>10F</td>\n",
       "      <td>Non-food contact surface improperly constructe...</td>\n",
       "      <td>Not Critical</td>\n",
       "      <td>16</td>\n",
       "      <td>NaN</td>\n",
       "      <td>NaN</td>\n",
       "      <td>02/12/2015</td>\n",
       "      <td>Cycle Inspection / Initial Inspection</td>\n",
       "      <td>WENDY'S 469FLATBUSH AVENUE 11225 BROOKLYN</td>\n",
       "    </tr>\n",
       "    <tr>\n",
       "      <th>5</th>\n",
       "      <td>5</td>\n",
       "      <td>40356068</td>\n",
       "      <td>TOV KOSHER KITCHEN</td>\n",
       "      <td>QUEENS</td>\n",
       "      <td>97-22</td>\n",
       "      <td>63 ROAD</td>\n",
       "      <td>11374</td>\n",
       "      <td>7188967788</td>\n",
       "      <td>Jewish/Kosher</td>\n",
       "      <td>11/24/2014</td>\n",
       "      <td>Violations were cited in the following area(s).</td>\n",
       "      <td>02B</td>\n",
       "      <td>Hot food item not held at or above 140º F.</td>\n",
       "      <td>Critical</td>\n",
       "      <td>20</td>\n",
       "      <td>Z</td>\n",
       "      <td>11/24/2014</td>\n",
       "      <td>02/12/2015</td>\n",
       "      <td>Cycle Inspection / Re-inspection</td>\n",
       "      <td>TOV KOSHER KITCHEN 97-2263 ROAD 11374 QUEENS</td>\n",
       "    </tr>\n",
       "    <tr>\n",
       "      <th>6</th>\n",
       "      <td>6</td>\n",
       "      <td>40356068</td>\n",
       "      <td>TOV KOSHER KITCHEN</td>\n",
       "      <td>QUEENS</td>\n",
       "      <td>97-22</td>\n",
       "      <td>63 ROAD</td>\n",
       "      <td>11374</td>\n",
       "      <td>7188967788</td>\n",
       "      <td>Jewish/Kosher</td>\n",
       "      <td>11/24/2014</td>\n",
       "      <td>Violations were cited in the following area(s).</td>\n",
       "      <td>06A</td>\n",
       "      <td>Personal cleanliness inadequate. Outer garment...</td>\n",
       "      <td>Critical</td>\n",
       "      <td>20</td>\n",
       "      <td>Z</td>\n",
       "      <td>11/24/2014</td>\n",
       "      <td>02/12/2015</td>\n",
       "      <td>Cycle Inspection / Re-inspection</td>\n",
       "      <td>TOV KOSHER KITCHEN 97-2263 ROAD 11374 QUEENS</td>\n",
       "    </tr>\n",
       "    <tr>\n",
       "      <th>7</th>\n",
       "      <td>7</td>\n",
       "      <td>40356068</td>\n",
       "      <td>TOV KOSHER KITCHEN</td>\n",
       "      <td>QUEENS</td>\n",
       "      <td>97-22</td>\n",
       "      <td>63 ROAD</td>\n",
       "      <td>11374</td>\n",
       "      <td>7188967788</td>\n",
       "      <td>Jewish/Kosher</td>\n",
       "      <td>11/24/2014</td>\n",
       "      <td>Violations were cited in the following area(s).</td>\n",
       "      <td>06C</td>\n",
       "      <td>Food not protected from potential source of co...</td>\n",
       "      <td>Critical</td>\n",
       "      <td>20</td>\n",
       "      <td>Z</td>\n",
       "      <td>11/24/2014</td>\n",
       "      <td>02/12/2015</td>\n",
       "      <td>Cycle Inspection / Re-inspection</td>\n",
       "      <td>TOV KOSHER KITCHEN 97-2263 ROAD 11374 QUEENS</td>\n",
       "    </tr>\n",
       "    <tr>\n",
       "      <th>8</th>\n",
       "      <td>8</td>\n",
       "      <td>40356068</td>\n",
       "      <td>TOV KOSHER KITCHEN</td>\n",
       "      <td>QUEENS</td>\n",
       "      <td>97-22</td>\n",
       "      <td>63 ROAD</td>\n",
       "      <td>11374</td>\n",
       "      <td>7188967788</td>\n",
       "      <td>Jewish/Kosher</td>\n",
       "      <td>11/24/2014</td>\n",
       "      <td>Violations were cited in the following area(s).</td>\n",
       "      <td>10F</td>\n",
       "      <td>Non-food contact surface improperly constructe...</td>\n",
       "      <td>Not Critical</td>\n",
       "      <td>20</td>\n",
       "      <td>Z</td>\n",
       "      <td>11/24/2014</td>\n",
       "      <td>02/12/2015</td>\n",
       "      <td>Cycle Inspection / Re-inspection</td>\n",
       "      <td>TOV KOSHER KITCHEN 97-2263 ROAD 11374 QUEENS</td>\n",
       "    </tr>\n",
       "    <tr>\n",
       "      <th>9</th>\n",
       "      <td>9</td>\n",
       "      <td>40356151</td>\n",
       "      <td>BRUNOS ON THE BOULEVARD</td>\n",
       "      <td>QUEENS</td>\n",
       "      <td>8825</td>\n",
       "      <td>ASTORIA BOULEVARD</td>\n",
       "      <td>11369</td>\n",
       "      <td>7183350505</td>\n",
       "      <td>American</td>\n",
       "      <td>11/15/2014</td>\n",
       "      <td>Violations were cited in the following area(s).</td>\n",
       "      <td>04L</td>\n",
       "      <td>Evidence of mice or live mice present in facil...</td>\n",
       "      <td>Critical</td>\n",
       "      <td>38</td>\n",
       "      <td>Z</td>\n",
       "      <td>11/15/2014</td>\n",
       "      <td>02/12/2015</td>\n",
       "      <td>Cycle Inspection / Re-inspection</td>\n",
       "      <td>BRUNOS ON THE BOULEVARD 8825ASTORIA BOULEVARD ...</td>\n",
       "    </tr>\n",
       "  </tbody>\n",
       "</table>\n",
       "</div>"
      ],
      "text/plain": [
       "  Unnamed: 0     CAMIS                      DBA      BORO BUILDING  \\\n",
       "0          0  30112340                  WENDY'S  BROOKLYN      469   \n",
       "1          1  30112340                  WENDY'S  BROOKLYN      469   \n",
       "2          2  30112340                  WENDY'S  BROOKLYN      469   \n",
       "3          3  30112340                  WENDY'S  BROOKLYN      469   \n",
       "4          4  30112340                  WENDY'S  BROOKLYN      469   \n",
       "5          5  40356068       TOV KOSHER KITCHEN    QUEENS    97-22   \n",
       "6          6  40356068       TOV KOSHER KITCHEN    QUEENS    97-22   \n",
       "7          7  40356068       TOV KOSHER KITCHEN    QUEENS    97-22   \n",
       "8          8  40356068       TOV KOSHER KITCHEN    QUEENS    97-22   \n",
       "9          9  40356151  BRUNOS ON THE BOULEVARD    QUEENS     8825   \n",
       "\n",
       "              STREET ZIPCODE       PHONE CUISINE DESCRIPTION INSPECTION DATE  \\\n",
       "0    FLATBUSH AVENUE   11225  7182875005          Hamburgers      12/30/2014   \n",
       "1    FLATBUSH AVENUE   11225  7182875005          Hamburgers      12/30/2014   \n",
       "2    FLATBUSH AVENUE   11225  7182875005          Hamburgers      11/13/2014   \n",
       "3    FLATBUSH AVENUE   11225  7182875005          Hamburgers      11/13/2014   \n",
       "4    FLATBUSH AVENUE   11225  7182875005          Hamburgers      11/13/2014   \n",
       "5            63 ROAD   11374  7188967788       Jewish/Kosher      11/24/2014   \n",
       "6            63 ROAD   11374  7188967788       Jewish/Kosher      11/24/2014   \n",
       "7            63 ROAD   11374  7188967788       Jewish/Kosher      11/24/2014   \n",
       "8            63 ROAD   11374  7188967788       Jewish/Kosher      11/24/2014   \n",
       "9  ASTORIA BOULEVARD   11369  7183350505           American       11/15/2014   \n",
       "\n",
       "                                            ACTION VIOLATION CODE  \\\n",
       "0  Violations were cited in the following area(s).            06C   \n",
       "1  Violations were cited in the following area(s).            10F   \n",
       "2  Violations were cited in the following area(s).            04H   \n",
       "3  Violations were cited in the following area(s).            06A   \n",
       "4  Violations were cited in the following area(s).            10F   \n",
       "5  Violations were cited in the following area(s).            02B   \n",
       "6  Violations were cited in the following area(s).            06A   \n",
       "7  Violations were cited in the following area(s).            06C   \n",
       "8  Violations were cited in the following area(s).            10F   \n",
       "9  Violations were cited in the following area(s).            04L   \n",
       "\n",
       "                               VIOLATION DESCRIPTION CRITICAL FLAG SCORE  \\\n",
       "0  Food not protected from potential source of co...      Critical     8   \n",
       "1  Non-food contact surface improperly constructe...  Not Critical     8   \n",
       "2  Raw, cooked or prepared food is adulterated, c...      Critical    16   \n",
       "3  Personal cleanliness inadequate. Outer garment...      Critical    16   \n",
       "4  Non-food contact surface improperly constructe...  Not Critical    16   \n",
       "5         Hot food item not held at or above 140º F.      Critical    20   \n",
       "6  Personal cleanliness inadequate. Outer garment...      Critical    20   \n",
       "7  Food not protected from potential source of co...      Critical    20   \n",
       "8  Non-food contact surface improperly constructe...  Not Critical    20   \n",
       "9  Evidence of mice or live mice present in facil...      Critical    38   \n",
       "\n",
       "  GRADE  GRADE DATE RECORD DATE                        INSPECTION TYPE  \\\n",
       "0     A  12/30/2014  02/12/2015       Cycle Inspection / Re-inspection   \n",
       "1     A  12/30/2014  02/12/2015       Cycle Inspection / Re-inspection   \n",
       "2   NaN         NaN  02/12/2015  Cycle Inspection / Initial Inspection   \n",
       "3   NaN         NaN  02/12/2015  Cycle Inspection / Initial Inspection   \n",
       "4   NaN         NaN  02/12/2015  Cycle Inspection / Initial Inspection   \n",
       "5     Z  11/24/2014  02/12/2015       Cycle Inspection / Re-inspection   \n",
       "6     Z  11/24/2014  02/12/2015       Cycle Inspection / Re-inspection   \n",
       "7     Z  11/24/2014  02/12/2015       Cycle Inspection / Re-inspection   \n",
       "8     Z  11/24/2014  02/12/2015       Cycle Inspection / Re-inspection   \n",
       "9     Z  11/15/2014  02/12/2015       Cycle Inspection / Re-inspection   \n",
       "\n",
       "                                          RESTAURANT  \n",
       "0          WENDY'S 469FLATBUSH AVENUE 11225 BROOKLYN  \n",
       "1          WENDY'S 469FLATBUSH AVENUE 11225 BROOKLYN  \n",
       "2          WENDY'S 469FLATBUSH AVENUE 11225 BROOKLYN  \n",
       "3          WENDY'S 469FLATBUSH AVENUE 11225 BROOKLYN  \n",
       "4          WENDY'S 469FLATBUSH AVENUE 11225 BROOKLYN  \n",
       "5       TOV KOSHER KITCHEN 97-2263 ROAD 11374 QUEENS  \n",
       "6       TOV KOSHER KITCHEN 97-2263 ROAD 11374 QUEENS  \n",
       "7       TOV KOSHER KITCHEN 97-2263 ROAD 11374 QUEENS  \n",
       "8       TOV KOSHER KITCHEN 97-2263 ROAD 11374 QUEENS  \n",
       "9  BRUNOS ON THE BOULEVARD 8825ASTORIA BOULEVARD ...  "
      ]
     },
     "execution_count": 2,
     "metadata": {},
     "output_type": "execute_result"
    }
   ],
   "source": [
    "# concatenate values of each columns\n",
    "df['RESTAURANT'] = df['DBA'] + ' ' + df['BUILDING'] + df['STREET'] + ' ' + df['ZIPCODE'] + ' ' + df['BORO']\n",
    "df.dropna()\n",
    "df[:10]"
   ]
  },
  {
   "cell_type": "markdown",
   "metadata": {
    "colab_type": "text",
    "id": "g2aeIkPJch26"
   },
   "source": []
  },
  {
   "cell_type": "markdown",
   "metadata": {
    "colab_type": "text",
    "id": "elcCztwLi3O6"
   },
   "source": [
    "## Q2) How many restaurants are included in the data?"
   ]
  },
  {
   "cell_type": "markdown",
   "metadata": {
    "colab_type": "text",
    "id": "nu8cX2gJi3O7"
   },
   "source": [
    "Markdown text"
   ]
  },
  {
   "cell_type": "code",
   "execution_count": 3,
   "metadata": {
    "colab": {
     "base_uri": "https://localhost:8080/",
     "height": 34
    },
    "colab_type": "code",
    "id": "A7ayhjBzi3O7",
    "outputId": "711f53c2-e5a3-43c4-a124-e8c6fde80005"
   },
   "outputs": [
    {
     "data": {
      "text/plain": [
       "10114"
      ]
     },
     "execution_count": 3,
     "metadata": {},
     "output_type": "execute_result"
    }
   ],
   "source": [
    "# counts all restaurants\n",
    "df2 = df.drop_duplicates(subset=\"RESTAURANT\")\n",
    "len(df2)"
   ]
  },
  {
   "cell_type": "markdown",
   "metadata": {
    "colab_type": "text",
    "id": "kMyV6Wu1i31I"
   },
   "source": [
    "## Q3) How many chains are there? "
   ]
  },
  {
   "cell_type": "markdown",
   "metadata": {
    "colab_type": "text",
    "id": "GYub7wsAi31K"
   },
   "source": [
    "Markdown text"
   ]
  },
  {
   "cell_type": "code",
   "execution_count": 4,
   "metadata": {
    "colab": {
     "base_uri": "https://localhost:8080/",
     "height": 34
    },
    "colab_type": "code",
    "id": "spv45ewOi31K",
    "outputId": "fccfc4c9-498e-4e0b-f8b8-15dbe8a07142"
   },
   "outputs": [
    {
     "data": {
      "text/plain": [
       "368"
      ]
     },
     "execution_count": 4,
     "metadata": {},
     "output_type": "execute_result"
    }
   ],
   "source": [
    "# create 'chain' mask and selects only chain restaurants\n",
    "chains = df[['DBA', 'RESTAURANT']].drop_duplicates()['DBA'].value_counts()\n",
    "chains = chains[chains >= 2]\n",
    "len(chains)"
   ]
  },
  {
   "cell_type": "markdown",
   "metadata": {
    "colab_type": "text",
    "id": "44N7DrfNjGdS"
   },
   "source": [
    "## Q4) Plot a bar graph of the top 20 most popular chains."
   ]
  },
  {
   "cell_type": "markdown",
   "metadata": {
    "colab_type": "text",
    "id": "u_Nwt7IyjGdS"
   },
   "source": [
    "Markdown text"
   ]
  },
  {
   "cell_type": "code",
   "execution_count": 5,
   "metadata": {
    "colab": {
     "base_uri": "https://localhost:8080/",
     "height": 496
    },
    "colab_type": "code",
    "id": "FkXAj6n2jGdT",
    "outputId": "1929f3eb-50f9-4b44-e322-7039004dde55"
   },
   "outputs": [
    {
     "data": {
      "text/plain": [
       "<matplotlib.axes._subplots.AxesSubplot at 0x246e5646348>"
      ]
     },
     "execution_count": 5,
     "metadata": {},
     "output_type": "execute_result"
    },
    {
     "data": {
      "image/png": "[encoded data removed]",
      "text/plain": [
       "<Figure size 432x288 with 1 Axes>"
      ]
     },
     "metadata": {
      "needs_background": "light"
     },
     "output_type": "display_data"
    }
   ],
   "source": [
    "# use sor_values() in order to sort in descending order and plot only top 20 of it.\n",
    "top_20_chains = chains.sort_values(ascending=False)\n",
    "top_20_chains[:20].plot(kind='bar')"
   ]
  },
  {
   "cell_type": "markdown",
   "metadata": {
    "colab_type": "text",
    "id": "UQIlKg7AjG4O"
   },
   "source": [
    "## Q5) What fraction of all restaurants are chain restaurants?"
   ]
  },
  {
   "cell_type": "markdown",
   "metadata": {
    "colab_type": "text",
    "id": "0NPNYeHPjG4P"
   },
   "source": [
    "Markdown text"
   ]
  },
  {
   "cell_type": "code",
   "execution_count": 6,
   "metadata": {
    "colab": {
     "base_uri": "https://localhost:8080/",
     "height": 34
    },
    "colab_type": "code",
    "id": "FixlSG8ijG4P",
    "outputId": "dbc77c9d-98dc-49e8-8a9b-c328692824e3"
   },
   "outputs": [
    {
     "data": {
      "text/plain": [
       "0.036385208621712475"
      ]
     },
     "execution_count": 6,
     "metadata": {},
     "output_type": "execute_result"
    }
   ],
   "source": [
    "# fraction of all restaurants are chain restaurants\n",
    "len(chains) / len(df['RESTAURANT'].value_counts())"
   ]
  },
  {
   "cell_type": "markdown",
   "metadata": {
    "colab_type": "text",
    "id": "zz2npw07jHQe"
   },
   "source": [
    "## Q6) Plot the number of non-chain restaurants in each boro."
   ]
  },
  {
   "cell_type": "markdown",
   "metadata": {
    "colab_type": "text",
    "id": "8B-07UgPjHQf"
   },
   "source": [
    "Markdown text"
   ]
  },
  {
   "cell_type": "code",
   "execution_count": 7,
   "metadata": {
    "colab": {
     "base_uri": "https://localhost:8080/",
     "height": 386
    },
    "colab_type": "code",
    "id": "Gh3qIVVVjHQf",
    "outputId": "d2683a59-8aaf-47f6-b535-b829e2407e6c"
   },
   "outputs": [
    {
     "name": "stderr",
     "output_type": "stream",
     "text": [
      "C:\\ProgramData\\Anaconda3\\lib\\site-packages\\ipykernel_launcher.py:11: UserWarning: Boolean Series key will be reindexed to match DataFrame index.\n",
      "  # This is added back by InteractiveShellApp.init_path()\n"
     ]
    },
    {
     "data": {
      "text/plain": [
       "<matplotlib.axes._subplots.AxesSubplot at 0x246e5c42a88>"
      ]
     },
     "execution_count": 7,
     "metadata": {},
     "output_type": "execute_result"
    },
    {
     "data": {
      "image/png": "[encoded data removed]",
      "text/plain": [
       "<Figure size 432x288 with 1 Axes>"
      ]
     },
     "metadata": {
      "needs_background": "light"
     },
     "output_type": "display_data"
    }
   ],
   "source": [
    "# first find all non-chain restaurants\n",
    "non_chains = df[['DBA', 'RESTAURANT']].drop_duplicates()['DBA'].value_counts()\n",
    "non_chains = non_chains[non_chains == 1]\n",
    "\n",
    "def is_not_chain(s):\n",
    "    return s in non_chains\n",
    "\n",
    "# plot the number of such restaurants by boro (w/out 'missing' boro)\n",
    "mask = df['BORO'] != 'Missing'\n",
    "mask2 = df['DBA'].map(is_not_chain)\n",
    "no_chain_df = df[mask][mask2]\n",
    "no_chain_df['BORO'].value_counts().plot(kind='bar')"
   ]
  },
  {
   "cell_type": "markdown",
   "metadata": {
    "colab_type": "text",
    "id": "Rfw9dKIt57kf"
   },
   "source": [
    "## Q7) Plot the fraction of non-chain restaurants in each boro."
   ]
  },
  {
   "cell_type": "code",
   "execution_count": 8,
   "metadata": {
    "colab": {
     "base_uri": "https://localhost:8080/",
     "height": 350
    },
    "colab_type": "code",
    "id": "ErT25B2D57kg",
    "outputId": "9b26247a-7af5-4a88-90f4-3a223b3ddd75"
   },
   "outputs": [
    {
     "name": "stderr",
     "output_type": "stream",
     "text": [
      "C:\\ProgramData\\Anaconda3\\lib\\site-packages\\ipykernel_launcher.py:6: UserWarning: Boolean Series key will be reindexed to match DataFrame index.\n",
      "  \n"
     ]
    },
    {
     "data": {
      "text/plain": [
       "<matplotlib.axes._subplots.AxesSubplot at 0x246e5bba308>"
      ]
     },
     "execution_count": 8,
     "metadata": {},
     "output_type": "execute_result"
    },
    {
     "data": {
      "image/png": "[encoded data removed]",
      "text/plain": [
       "<Figure size 432x288 with 1 Axes>"
      ]
     },
     "metadata": {
      "needs_background": "light"
     },
     "output_type": "display_data"
    }
   ],
   "source": [
    "# Removing the 'missing' values through a mask\n",
    "mask2 = (df2['BORO']!='Missing')\n",
    "\n",
    "# Calculating the total non chain restaurants and total restaurants\n",
    "df3 = df2[df2['DBA'].map(df2['DBA'].value_counts()) == 1]\n",
    "vc_non_chain = df3[mask][['DBA','BORO']].dropna(how=\"any\").drop_duplicates()['BORO'].value_counts()\n",
    "vc_total = df2[mask2][['DBA','BORO']].dropna(how=\"any\").drop_duplicates()['BORO'].value_counts()\n",
    "\n",
    "# Calculating non chain restaurants as a fraction of the total\n",
    "vc_fraction = vc_non_chain / vc_total\n",
    "\n",
    "# Plotting the fractions for each borough\n",
    "vc_fraction.plot(kind=\"bar\")"
   ]
  },
  {
   "cell_type": "markdown",
   "metadata": {
    "colab_type": "text",
    "id": "eB0K9QoH571d"
   },
   "source": [
    "## Q8) Plot the popularity of cuisines."
   ]
  },
  {
   "cell_type": "code",
   "execution_count": 9,
   "metadata": {
    "colab": {
     "base_uri": "https://localhost:8080/",
     "height": 606
    },
    "colab_type": "code",
    "id": "kM9SfAIU571e",
    "outputId": "068ac181-4161-4631-ff00-22b4e69caf31"
   },
   "outputs": [
    {
     "data": {
      "text/plain": [
       "<matplotlib.axes._subplots.AxesSubplot at 0x246e5c1a808>"
      ]
     },
     "execution_count": 9,
     "metadata": {},
     "output_type": "execute_result"
    },
    {
     "data": {
      "image/png": "[encoded data removed]",
      "text/plain": [
       "<Figure size 432x288 with 1 Axes>"
      ]
     },
     "metadata": {
      "needs_background": "light"
     },
     "output_type": "display_data"
    }
   ],
   "source": [
    "# Creating dataframe of the cuisines among restaurants\n",
    "popular_cuisines = df2[['CUISINE DESCRIPTION','DBA']].dropna(how=\"any\").drop_duplicates()[\"CUISINE DESCRIPTION\"].value_counts()\n",
    "\n",
    "# Plotting the cuisines based on popularity\n",
    "popular_cuisines[:20].plot(kind=\"bar\")"
   ]
  },
  {
   "cell_type": "markdown",
   "metadata": {
    "colab_type": "text",
    "id": "iaFvHKU06DIS"
   },
   "source": [
    "## Q9) Plot the cuisines among restaurants which never got cited for violations."
   ]
  },
  {
   "cell_type": "code",
   "execution_count": 10,
   "metadata": {
    "colab": {
     "base_uri": "https://localhost:8080/",
     "height": 606
    },
    "colab_type": "code",
    "id": "pCrpkrCm6DIV",
    "outputId": "bdc61b92-3cb6-4d24-bcbf-beae2f0dbc20"
   },
   "outputs": [
    {
     "data": {
      "text/plain": [
       "<matplotlib.axes._subplots.AxesSubplot at 0x246e6fcf488>"
      ]
     },
     "execution_count": 10,
     "metadata": {},
     "output_type": "execute_result"
    },
    {
     "data": {
      "image/png": "[encoded data removed]",
      "text/plain": [
       "<Figure size 432x288 with 1 Axes>"
      ]
     },
     "metadata": {
      "needs_background": "light"
     },
     "output_type": "display_data"
    }
   ],
   "source": [
    "# Creating a mask to find restaurants which were never cited for violations\n",
    "mask3 = df2['VIOLATION CODE'].isnull()\n",
    "\n",
    "# Creating dataframe of the cuisines among restaurants which never got cited for violations\n",
    "popular_cuisines = df2[mask3][['CUISINE DESCRIPTION','DBA']].dropna(how=\"any\").drop_duplicates()[\"CUISINE DESCRIPTION\"].value_counts()\n",
    "\n",
    "# Plotting the top cuisines among the 'clean' restaurants\n",
    "popular_cuisines[:20].plot(kind=\"bar\")"
   ]
  },
  {
   "cell_type": "markdown",
   "metadata": {
    "colab_type": "text",
    "id": "n6OESg2q6Dbk"
   },
   "source": [
    "## Q10) What cuisines tend to be the cleanest\"?"
   ]
  },
  {
   "cell_type": "code",
   "execution_count": 11,
   "metadata": {
    "colab": {
     "base_uri": "https://localhost:8080/",
     "height": 204
    },
    "colab_type": "code",
    "id": "Al5ODxtd6Dbm",
    "outputId": "6c6251c6-e694-4f94-e467-73900b854175"
   },
   "outputs": [
    {
     "data": {
      "text/plain": [
       "Donuts                            0.120000\n",
       "Vietnamese/Cambodian/Malaysia     0.100000\n",
       "Soul Food                         0.090909\n",
       "Soups & Sandwiches                0.083333\n",
       "Hamburgers                        0.068182\n",
       "Other                             0.067961\n",
       "Irish                             0.057143\n",
       "Chicken                           0.051948\n",
       "Sandwiches/Salads/Mixed Buffet    0.050000\n",
       "Barbecue                          0.050000\n",
       "Name: CUISINE DESCRIPTION, dtype: float64"
      ]
     },
     "execution_count": 11,
     "metadata": {},
     "output_type": "execute_result"
    }
   ],
   "source": [
    "# Selecting all cuisines for which there are atleast 20 restaurants representing that cuisine\n",
    "df4 = df2[df2['CUISINE DESCRIPTION'].map(df2['CUISINE DESCRIPTION'].value_counts())>=20]\n",
    "\n",
    "# Creating a mask to select the restaurants with no violations\n",
    "mask4 = df4['VIOLATION CODE'].isnull()\n",
    "\n",
    "# Calculating the top 20 popular cuisines and top 20 'clean' popular cuisines\n",
    "popular_cuisines_top_20 = df4[['CUISINE DESCRIPTION','DBA']].dropna(how=\"any\").drop_duplicates()[\"CUISINE DESCRIPTION\"].value_counts()\n",
    "clean_popular_cuisines_top20 = df4[mask4][['CUISINE DESCRIPTION','DBA']].dropna(how=\"any\").drop_duplicates()[\"CUISINE DESCRIPTION\"].value_counts()\n",
    "\n",
    "# Calculating ratio of restaurants which never got cited versus total number of restaurants,for each cuisine\n",
    "clean_cuisine_ratio = clean_popular_cuisines_top20 / popular_cuisines_top_20\n",
    "\n",
    "# Printing out the top 10 cuisines with highest ratio\n",
    "clean_cuisine_ratio.dropna().sort_values(ascending=False)[:10]"
   ]
  },
  {
   "cell_type": "markdown",
   "metadata": {
    "colab_type": "text",
    "id": "Q2DXpaJojRaH"
   },
   "source": [
    "## Q11) What are the most common violations in each borough?"
   ]
  },
  {
   "cell_type": "markdown",
   "metadata": {
    "colab_type": "text",
    "id": "6e8cZirWjRaI"
   },
   "source": [
    "For this problem, a table was created using the crosstab function in pandas. Then the idxmax function was used to identify the most common description for each borough. \n",
    "\n"
   ]
  },
  {
   "cell_type": "code",
   "execution_count": 12,
   "metadata": {
    "colab": {
     "base_uri": "https://localhost:8080/",
     "height": 845
    },
    "colab_type": "code",
    "id": "J3PlUhmzjRaI",
    "outputId": "17a1a19b-5f10-4988-ed43-0c0847044127"
   },
   "outputs": [
    {
     "data": {
      "text/html": [
       "<div>\n",
       "<style scoped>\n",
       "    .dataframe tbody tr th:only-of-type {\n",
       "        vertical-align: middle;\n",
       "    }\n",
       "\n",
       "    .dataframe tbody tr th {\n",
       "        vertical-align: top;\n",
       "    }\n",
       "\n",
       "    .dataframe thead th {\n",
       "        text-align: right;\n",
       "    }\n",
       "</style>\n",
       "<table border=\"1\" class=\"dataframe\">\n",
       "  <thead>\n",
       "    <tr style=\"text-align: right;\">\n",
       "      <th></th>\n",
       "      <th>Most common violation description</th>\n",
       "      <th>Frequency of violation</th>\n",
       "    </tr>\n",
       "    <tr>\n",
       "      <th>BORO</th>\n",
       "      <th></th>\n",
       "      <th></th>\n",
       "    </tr>\n",
       "  </thead>\n",
       "  <tbody>\n",
       "    <tr>\n",
       "      <th>BRONX</th>\n",
       "      <td>Non-food contact surface improperly constructe...</td>\n",
       "      <td>500</td>\n",
       "    </tr>\n",
       "    <tr>\n",
       "      <th>BROOKLYN</th>\n",
       "      <td>Non-food contact surface improperly constructe...</td>\n",
       "      <td>1485</td>\n",
       "    </tr>\n",
       "    <tr>\n",
       "      <th>MANHATTAN</th>\n",
       "      <td>Non-food contact surface improperly constructe...</td>\n",
       "      <td>2417</td>\n",
       "    </tr>\n",
       "    <tr>\n",
       "      <th>QUEENS</th>\n",
       "      <td>Non-food contact surface improperly constructe...</td>\n",
       "      <td>1416</td>\n",
       "    </tr>\n",
       "    <tr>\n",
       "      <th>STATEN ISLAND</th>\n",
       "      <td>Non-food contact surface improperly constructe...</td>\n",
       "      <td>230</td>\n",
       "    </tr>\n",
       "  </tbody>\n",
       "</table>\n",
       "</div>"
      ],
      "text/plain": [
       "                               Most common violation description  \\\n",
       "BORO                                                               \n",
       "BRONX          Non-food contact surface improperly constructe...   \n",
       "BROOKLYN       Non-food contact surface improperly constructe...   \n",
       "MANHATTAN      Non-food contact surface improperly constructe...   \n",
       "QUEENS         Non-food contact surface improperly constructe...   \n",
       "STATEN ISLAND  Non-food contact surface improperly constructe...   \n",
       "\n",
       "               Frequency of violation  \n",
       "BORO                                   \n",
       "BRONX                             500  \n",
       "BROOKLYN                         1485  \n",
       "MANHATTAN                        2417  \n",
       "QUEENS                           1416  \n",
       "STATEN ISLAND                     230  "
      ]
     },
     "execution_count": 12,
     "metadata": {},
     "output_type": "execute_result"
    }
   ],
   "source": [
    "#There are some missing values that got caught in the table. Therefore get rid of them with a mask.\n",
    "no_missing_mask = (df['BORO']!='Missing')\n",
    "#Create table using crosstab. Rows are the boroughs and the columns are the descriptions.\n",
    "table = pd.crosstab(df[no_missing_mask]['BORO'],df[no_missing_mask]['VIOLATION DESCRIPTION'])\n",
    "\n",
    "#Using axis = 1 to specify get the column id for each row.\n",
    "#default of axis = 0 would get the row ID for each column.\n",
    "most_common = DataFrame({'Most common violation description':table.idxmax(axis = 1), 'Frequency of violation':table.max(axis = 1)})\n",
    "#call the df to show output.\n",
    "most_common"
   ]
  },
  {
   "cell_type": "markdown",
   "metadata": {
    "colab_type": "text",
    "id": "OexxUNOrFa81"
   },
   "source": [
    "## Q12) What are the most common violations per borough, after normalizing for the relative abundance of each violation?"
   ]
  },
  {
   "cell_type": "markdown",
   "metadata": {
    "colab_type": "text",
    "id": "2284ytifFa82"
   },
   "source": [
    "In this problem, normalization is done by first getting the frequencies of the violation description. Then pandas will divide the table with those frequencies. Pandas is pretty smart and only will divide if the description matches. While the code is not shown, there were some tests to see if the division goes through on say 'VIOLATION CODE'. For that table, dividing by violationFrequency yielded NaNs. Thus the simple line of code of table/violationFrequency should yield the correct normalized result."
   ]
  },
  {
   "cell_type": "code",
   "execution_count": 13,
   "metadata": {
    "colab": {
     "base_uri": "https://localhost:8080/",
     "height": 845
    },
    "colab_type": "code",
    "id": "_cTWCOuOFa82",
    "outputId": "7806f44c-c0a4-4c27-f39d-2f0bd39c691c"
   },
   "outputs": [
    {
     "data": {
      "text/html": [
       "<div>\n",
       "<style scoped>\n",
       "    .dataframe tbody tr th:only-of-type {\n",
       "        vertical-align: middle;\n",
       "    }\n",
       "\n",
       "    .dataframe tbody tr th {\n",
       "        vertical-align: top;\n",
       "    }\n",
       "\n",
       "    .dataframe thead th {\n",
       "        text-align: right;\n",
       "    }\n",
       "</style>\n",
       "<table border=\"1\" class=\"dataframe\">\n",
       "  <thead>\n",
       "    <tr style=\"text-align: right;\">\n",
       "      <th></th>\n",
       "      <th>Most common violation description</th>\n",
       "      <th>Frequency of violation</th>\n",
       "    </tr>\n",
       "    <tr>\n",
       "      <th>BORO</th>\n",
       "      <th></th>\n",
       "      <th></th>\n",
       "    </tr>\n",
       "  </thead>\n",
       "  <tbody>\n",
       "    <tr>\n",
       "      <th>BRONX</th>\n",
       "      <td>Unprotected food re-served.</td>\n",
       "      <td>0.500000</td>\n",
       "    </tr>\n",
       "    <tr>\n",
       "      <th>BROOKLYN</th>\n",
       "      <td>Precooked potentially hazardous food from comm...</td>\n",
       "      <td>0.714286</td>\n",
       "    </tr>\n",
       "    <tr>\n",
       "      <th>MANHATTAN</th>\n",
       "      <td>Out-of package sale of tobacco products observed.</td>\n",
       "      <td>1.000000</td>\n",
       "    </tr>\n",
       "    <tr>\n",
       "      <th>QUEENS</th>\n",
       "      <td>Caloric content range (minimum to maximum) not...</td>\n",
       "      <td>1.000000</td>\n",
       "    </tr>\n",
       "    <tr>\n",
       "      <th>STATEN ISLAND</th>\n",
       "      <td>Eggs found dirty/cracked; liquid, frozen or po...</td>\n",
       "      <td>0.090909</td>\n",
       "    </tr>\n",
       "  </tbody>\n",
       "</table>\n",
       "</div>"
      ],
      "text/plain": [
       "                               Most common violation description  \\\n",
       "BORO                                                               \n",
       "BRONX                                Unprotected food re-served.   \n",
       "BROOKLYN       Precooked potentially hazardous food from comm...   \n",
       "MANHATTAN      Out-of package sale of tobacco products observed.   \n",
       "QUEENS         Caloric content range (minimum to maximum) not...   \n",
       "STATEN ISLAND  Eggs found dirty/cracked; liquid, frozen or po...   \n",
       "\n",
       "               Frequency of violation  \n",
       "BORO                                   \n",
       "BRONX                        0.500000  \n",
       "BROOKLYN                     0.714286  \n",
       "MANHATTAN                    1.000000  \n",
       "QUEENS                       1.000000  \n",
       "STATEN ISLAND                0.090909  "
      ]
     },
     "execution_count": 13,
     "metadata": {},
     "output_type": "execute_result"
    }
   ],
   "source": [
    "#Get all the violation descriptions in to one df. Use value counts to get frequencies\n",
    "violationFrequency = df['VIOLATION DESCRIPTION'].value_counts()\n",
    "#Divide table from problem 11 with the violation frequency to normalize it.\n",
    "norm_table = table/violationFrequency\n",
    "\n",
    "#Using axis = 1 to specify get the column id for each row.\n",
    "#default of axis = 0 would get the row ID for each column.\n",
    "#norm_most_common to signify that the data has been normalized\n",
    "norm_most_common = DataFrame({'Most common violation description':norm_table.idxmax(axis = 1), 'Frequency of violation':norm_table.max(axis = 1)})\n",
    "#call the df to show output\n",
    "norm_most_common"
   ]
  },
  {
   "cell_type": "code",
   "execution_count": 14,
   "metadata": {
    "colab": {
     "base_uri": "https://localhost:8080/",
     "height": 235
    },
    "colab_type": "code",
    "id": "oRiWFQG-c4hx",
    "outputId": "ebb3709c-22d0-46be-bf95-8deee22d8a5c"
   },
   "outputs": [
    {
     "data": {
      "text/html": [
       "<div>\n",
       "<style scoped>\n",
       "    .dataframe tbody tr th:only-of-type {\n",
       "        vertical-align: middle;\n",
       "    }\n",
       "\n",
       "    .dataframe tbody tr th {\n",
       "        vertical-align: top;\n",
       "    }\n",
       "\n",
       "    .dataframe thead th {\n",
       "        text-align: right;\n",
       "    }\n",
       "</style>\n",
       "<table border=\"1\" class=\"dataframe\">\n",
       "  <thead>\n",
       "    <tr style=\"text-align: right;\">\n",
       "      <th></th>\n",
       "      <th>Most common violation description</th>\n",
       "      <th>Frequency of violation</th>\n",
       "    </tr>\n",
       "    <tr>\n",
       "      <th>BORO</th>\n",
       "      <th></th>\n",
       "      <th></th>\n",
       "    </tr>\n",
       "  </thead>\n",
       "  <tbody>\n",
       "    <tr>\n",
       "      <th>BRONX</th>\n",
       "      <td>Unprotected food re-served.</td>\n",
       "      <td>0.500000</td>\n",
       "    </tr>\n",
       "    <tr>\n",
       "      <th>BROOKLYN</th>\n",
       "      <td>Precooked potentially hazardous food from comm...</td>\n",
       "      <td>0.714286</td>\n",
       "    </tr>\n",
       "    <tr>\n",
       "      <th>MANHATTAN</th>\n",
       "      <td>Out-of package sale of tobacco products observed.</td>\n",
       "      <td>1.000000</td>\n",
       "    </tr>\n",
       "    <tr>\n",
       "      <th>QUEENS</th>\n",
       "      <td>Caloric content range (minimum to maximum) not...</td>\n",
       "      <td>1.000000</td>\n",
       "    </tr>\n",
       "    <tr>\n",
       "      <th>STATEN ISLAND</th>\n",
       "      <td>Eggs found dirty/cracked; liquid, frozen or po...</td>\n",
       "      <td>0.090909</td>\n",
       "    </tr>\n",
       "  </tbody>\n",
       "</table>\n",
       "</div>"
      ],
      "text/plain": [
       "                               Most common violation description  \\\n",
       "BORO                                                               \n",
       "BRONX                                Unprotected food re-served.   \n",
       "BROOKLYN       Precooked potentially hazardous food from comm...   \n",
       "MANHATTAN      Out-of package sale of tobacco products observed.   \n",
       "QUEENS         Caloric content range (minimum to maximum) not...   \n",
       "STATEN ISLAND  Eggs found dirty/cracked; liquid, frozen or po...   \n",
       "\n",
       "               Frequency of violation  \n",
       "BORO                                   \n",
       "BRONX                        0.500000  \n",
       "BROOKLYN                     0.714286  \n",
       "MANHATTAN                    1.000000  \n",
       "QUEENS                       1.000000  \n",
       "STATEN ISLAND                0.090909  "
      ]
     },
     "execution_count": 14,
     "metadata": {},
     "output_type": "execute_result"
    }
   ],
   "source": [
    "#Using axis = 1 to specify get the column id for each row.\n",
    "#default of axis = 0 would get the row ID for each column.\n",
    "#norm_most_common to signify that the data has been normalized\n",
    "norm_most_common = DataFrame({'Most common violation description':norm_table.idxmax(axis = 1), 'Frequency of violation':norm_table.max(axis = 1)})\n",
    "#call the df to show output\n",
    "norm_most_common"
   ]
  },
  {
   "cell_type": "markdown",
   "metadata": {
    "colab_type": "text",
    "id": "p9wIhOtqjRzB"
   },
   "source": [
    "## Q13) How many phone area codes correspond to a single zipcode?"
   ]
  },
  {
   "cell_type": "markdown",
   "metadata": {
    "colab_type": "text",
    "id": "c69NB0rejRzC"
   },
   "source": [
    "For this problem, string conversion and string slicing methods were done on python in order to get the first three phone digits for the area code. An area code column was created in the dataframe and then the dataframe was split into the two relevant columns of area code and zip code. Finding area codes that only had one zip code then was as simple as using a mask containing the condition that there was only one occurence and outputting the result using a print statement."
   ]
  },
  {
   "cell_type": "code",
   "execution_count": 15,
   "metadata": {
    "colab": {
     "base_uri": "https://localhost:8080/",
     "height": 34
    },
    "colab_type": "code",
    "id": "0XKbVZsLjRzC",
    "outputId": "a51eb88c-9b2e-430b-a859-c6ee99bee651"
   },
   "outputs": [
    {
     "name": "stdout",
     "output_type": "stream",
     "text": [
      "There are this many area codes that correspond with one zip code: 9\n"
     ]
    }
   ],
   "source": [
    "#Use as type str to convert df to a string. Then perform a string operation/slice on it to get the first 3 characters.\n",
    "three_digits_phone = df['PHONE'].astype('str').str[0:3]\n",
    "#Add in a column called AREA CODE so pandas operations work\n",
    "df['AREA CODE'] = three_digits_phone\n",
    "\n",
    "#Narrowing down the dataframe to just the relevant columns\n",
    "area_zip_df = df[['AREA CODE', 'ZIPCODE']]\n",
    "\n",
    "#Create a mask to find the area codes with only 1 ZIP code\n",
    "#Condition is which area codes only have one zip code.\n",
    "#This results in a series filled with True and Falses\n",
    "unique_area_mask = (area_zip_df['AREA CODE'].value_counts() == 1)\n",
    "#We can use the mask on itself to get the cases where the condition is true.\n",
    "#Display output\n",
    "print(\"There are this many area codes that correspond with one zip code:\", len(unique_area_mask[unique_area_mask]))"
   ]
  },
  {
   "cell_type": "markdown",
   "metadata": {
    "colab_type": "text",
    "id": "Rv3Ivv7kjbs1"
   },
   "source": [
    "## Q14) Find common misspellings of street names"
   ]
  },
  {
   "cell_type": "markdown",
   "metadata": {
    "colab_type": "text",
    "id": "pAiyVD-Bjbs2"
   },
   "source": [
    "This problem required multiple string and list manipulations using built in pandas method to create the columns for 'STREET TYPE', 'STREET BASE', and 'STREET BASE & ZIP'. After those creations, another dataframe was created to drop any reoccurring data across those three columns. Missing values were also dropped from that dataframe. After that cleaning, the dataframe was merged upon itself in order to develop two street type columns. Using pds.crosstab(), those columns were then made into a symmetrical table where certain spellings' i.e. Ave and Avenue occurences were counted. Then an output was displayed to the user for which street types are the following paired with: AVE, ST, RD, PL, BOULEARD, and BULEVARD.Markdown text"
   ]
  },
  {
   "cell_type": "code",
   "execution_count": 16,
   "metadata": {
    "colab": {
     "base_uri": "https://localhost:8080/",
     "height": 119
    },
    "colab_type": "code",
    "id": "zzpViWmCjbs3",
    "outputId": "dd228043-699d-4a45-a0ae-63f524e01de8"
   },
   "outputs": [
    {
     "name": "stdout",
     "output_type": "stream",
     "text": [
      "The street type that has AVE as the most common spelling mistake is: AVENUE\n",
      "The street type that has ST as the most common spelling mistake is: STREET\n",
      "The street type that has RD as the most common spelling mistake is: ROAD\n",
      "The street type that has PL as the most common spelling mistake is: PLACE\n",
      "The street type that has BOULEARD as the most common spelling mistake is: BLVD\n",
      "The street type that has BULEVARD as the most common spelling mistake is: BLVD\n"
     ]
    }
   ],
   "source": [
    "#STREET TYPE is a new column with the last word in the name of the street.\n",
    "#Use pandas nifty built in str methods.\n",
    "#str.split() essentially splits it into a list of strings with ' ' signifying that the seperation is a blank space.\n",
    "#str[-1] calls for the last word in the string.\n",
    "df['STREET TYPE'] = df['STREET'].str.split().str[-1]\n",
    "\n",
    "#Same as the STREET TYPE only that the index is :-1 aka get everything but the last one.\n",
    "#Creating STREET BASE column\n",
    "df['STREET BASE'] = df['STREET'].str.split().str[:-1]\n",
    "#Convert the list of strings back to a single string.\n",
    "df['STREET BASE'] = df['STREET BASE'].str.join(sep = ' ')\n",
    "\n",
    "#Creating STREET BASE & ZIP column.\n",
    "#This is simply a concatentation between street base and zip code.\n",
    "#A space is added.\n",
    "df['STREET BASE & ZIP'] = df['STREET BASE'] + ' ' + df['ZIPCODE']\n",
    "\n",
    "#Create a new df/table containing just these three columns\n",
    "#This is done by making a list of the column names.\n",
    "#And then putting it in the []\n",
    "df2 = df[['STREET BASE','STREET TYPE','STREET BASE & ZIP']]\n",
    "#Print out first 5 rows to show it worked.\n",
    "\n",
    "#Use drop duplicates to drop all the duplicates in street base.\n",
    "#Parameter ['STREET BASE','STREET TYPE','STREET BASE & ZIP'] to specify all three columns.\n",
    "df2 = df2.drop_duplicates(subset=['STREET BASE','STREET TYPE','STREET BASE & ZIP'])\n",
    "\n",
    "#Create a mask containing everything but the '' value.\n",
    "mask = (df2['STREET BASE'] != '')\n",
    "\n",
    "#Use mask to drop the blank value.\n",
    "df2 = df2[mask]\n",
    "\n",
    "#Use .dropna() to drop any other blank values\n",
    "df2 = df2.dropna()\n",
    "\n",
    "#Merge the table together with itself. \n",
    "merged_street_table = df2.merge(df2,\n",
    "                                   left_on='STREET BASE & ZIP',\n",
    "                                   right_on='STREET BASE & ZIP',\n",
    "                                   suffixes=['_base', '_zip'])\n",
    "\n",
    "#Create a mask that captures when the street type is different than the other one.\n",
    "diff_mask = (merged_street_table['STREET TYPE_base'] != merged_street_table['STREET TYPE_zip'])\n",
    "\n",
    "#Use pd.crosstab with mask condition to make the new table.\n",
    "diff_street_table = pd.crosstab(merged_street_table[diff_mask]['STREET TYPE_base'],merged_street_table[diff_mask]['STREET TYPE_zip'])\n",
    "\n",
    "#Display output for AVE, ST, RD, PL, BOULEARD, and BULEVARD\n",
    "#axis parameter does not matter here since the table is symmetrical. Default value of axis = 0 used.\n",
    "print('The street type that has AVE as the most common spelling mistake is:', diff_street_table['AVE'].idxmax())\n",
    "print('The street type that has ST as the most common spelling mistake is:', diff_street_table['ST'].idxmax())\n",
    "print('The street type that has RD as the most common spelling mistake is:', diff_street_table['RD'].idxmax())\n",
    "print('The street type that has PL as the most common spelling mistake is:', diff_street_table['PL'].idxmax())\n",
    "print('The street type that has BOULEARD as the most common spelling mistake is:', diff_street_table['BOULEARD'].idxmax())\n",
    "print('The street type that has BULEVARD as the most common spelling mistake is:', diff_street_table['BULEVARD'].idxmax())"
   ]
  }
 ],
 "metadata": {
  "colab": {
   "collapsed_sections": [],
   "name": "Data Analytics HW 2 (Authors: Matthew Leong, Shruti Kapur, Hyeon Gu Kim).ipynb",
   "provenance": [],
   "toc_visible": true
  },
  "kernelspec": {
   "display_name": "Python 3",
   "language": "python",
   "name": "python3"
  },
  "language_info": {
   "codemirror_mode": {
    "name": "ipython",
    "version": 3
   },
   "file_extension": ".py",
   "mimetype": "text/x-python",
   "name": "python",
   "nbconvert_exporter": "python",
   "pygments_lexer": "ipython3",
   "version": "3.7.6"
  }
 },
 "nbformat": 4,
 "nbformat_minor": 1
}
